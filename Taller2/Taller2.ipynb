{
 "cells": [
  {
   "cell_type": "markdown",
   "metadata": {},
   "source": [
    "# 2) Packages"
   ]
  },
  {
   "cell_type": "code",
   "execution_count": 1,
   "metadata": {},
   "outputs": [
    {
     "name": "stderr",
     "output_type": "stream",
     "text": [
      "Loading required package: RCurl\n",
      "Loading required package: bitops\n",
      "Loading required package: car\n",
      "Loading required package: carData\n"
     ]
    }
   ],
   "source": [
    "require(RCurl) #To read databases from htlm websites\n",
    "require(car) #Scatterplots"
   ]
  },
  {
   "cell_type": "markdown",
   "metadata": {},
   "source": [
    "# 3) Data handling"
   ]
  },
  {
   "cell_type": "markdown",
   "metadata": {},
   "source": [
    "## a) Codebook"
   ]
  },
  {
   "cell_type": "code",
   "execution_count": 2,
   "metadata": {},
   "outputs": [],
   "source": [
    "# group\n",
    "# obs\n",
    "# arc: bike lane \n",
    "# period: periods of 15 minutes of data collection\n",
    "# length: length of the bike lane\n",
    "# ff_tt: free frow travel time\n",
    "# tt: travel time\n",
    "# ncyclists: cyclist counted in each 15 minutes period."
   ]
  },
  {
   "cell_type": "markdown",
   "metadata": {},
   "source": [
    "## b) Data reading"
   ]
  },
  {
   "cell_type": "code",
   "execution_count": 3,
   "metadata": {},
   "outputs": [],
   "source": [
    "df<-read.csv(text=getURL(\"https://raw.githubusercontent.com/paguarda/FIT/master/Taller2/data.csv\"), fill = TRUE, header = TRUE,na.strings=c(\"NA\",\"NaN\", \" \"))"
   ]
  },
  {
   "cell_type": "code",
   "execution_count": 4,
   "metadata": {},
   "outputs": [
    {
     "data": {
      "text/html": [
       "<table>\n",
       "<thead><tr><th scope=col>group</th><th scope=col>obs</th><th scope=col>arc</th><th scope=col>period</th><th scope=col>dir</th><th scope=col>length</th><th scope=col>ff_tt</th><th scope=col>tt</th><th scope=col>ncyclists</th></tr></thead>\n",
       "<tbody>\n",
       "\t<tr><td>2    </td><td>1    </td><td>2    </td><td>1    </td><td>1    </td><td>140  </td><td>20.21</td><td>27.91</td><td>2    </td></tr>\n",
       "\t<tr><td>2    </td><td>2    </td><td>2    </td><td>2    </td><td>1    </td><td>140  </td><td>20.21</td><td>26.71</td><td>3    </td></tr>\n",
       "\t<tr><td>2    </td><td>3    </td><td>2    </td><td>3    </td><td>1    </td><td>140  </td><td>20.21</td><td>20.41</td><td>4    </td></tr>\n",
       "\t<tr><td>2    </td><td>4    </td><td>2    </td><td>4    </td><td>1    </td><td>140  </td><td>20.21</td><td>23.89</td><td>2    </td></tr>\n",
       "\t<tr><td>2    </td><td>5    </td><td>2    </td><td>5    </td><td>1    </td><td>140  </td><td>20.21</td><td>18.83</td><td>2    </td></tr>\n",
       "\t<tr><td>2    </td><td>6    </td><td>2    </td><td>6    </td><td>1    </td><td>140  </td><td>20.21</td><td>20.25</td><td>5    </td></tr>\n",
       "</tbody>\n",
       "</table>\n"
      ],
      "text/latex": [
       "\\begin{tabular}{r|lllllllll}\n",
       " group & obs & arc & period & dir & length & ff\\_tt & tt & ncyclists\\\\\n",
       "\\hline\n",
       "\t 2     & 1     & 2     & 1     & 1     & 140   & 20.21 & 27.91 & 2    \\\\\n",
       "\t 2     & 2     & 2     & 2     & 1     & 140   & 20.21 & 26.71 & 3    \\\\\n",
       "\t 2     & 3     & 2     & 3     & 1     & 140   & 20.21 & 20.41 & 4    \\\\\n",
       "\t 2     & 4     & 2     & 4     & 1     & 140   & 20.21 & 23.89 & 2    \\\\\n",
       "\t 2     & 5     & 2     & 5     & 1     & 140   & 20.21 & 18.83 & 2    \\\\\n",
       "\t 2     & 6     & 2     & 6     & 1     & 140   & 20.21 & 20.25 & 5    \\\\\n",
       "\\end{tabular}\n"
      ],
      "text/markdown": [
       "\n",
       "group | obs | arc | period | dir | length | ff_tt | tt | ncyclists | \n",
       "|---|---|---|---|---|---|\n",
       "| 2     | 1     | 2     | 1     | 1     | 140   | 20.21 | 27.91 | 2     | \n",
       "| 2     | 2     | 2     | 2     | 1     | 140   | 20.21 | 26.71 | 3     | \n",
       "| 2     | 3     | 2     | 3     | 1     | 140   | 20.21 | 20.41 | 4     | \n",
       "| 2     | 4     | 2     | 4     | 1     | 140   | 20.21 | 23.89 | 2     | \n",
       "| 2     | 5     | 2     | 5     | 1     | 140   | 20.21 | 18.83 | 2     | \n",
       "| 2     | 6     | 2     | 6     | 1     | 140   | 20.21 | 20.25 | 5     | \n",
       "\n",
       "\n"
      ],
      "text/plain": [
       "  group obs arc period dir length ff_tt tt    ncyclists\n",
       "1 2     1   2   1      1   140    20.21 27.91 2        \n",
       "2 2     2   2   2      1   140    20.21 26.71 3        \n",
       "3 2     3   2   3      1   140    20.21 20.41 4        \n",
       "4 2     4   2   4      1   140    20.21 23.89 2        \n",
       "5 2     5   2   5      1   140    20.21 18.83 2        \n",
       "6 2     6   2   6      1   140    20.21 20.25 5        "
      ]
     },
     "metadata": {},
     "output_type": "display_data"
    }
   ],
   "source": [
    "head(df)"
   ]
  },
  {
   "cell_type": "markdown",
   "metadata": {},
   "source": [
    "## c) Data formatting"
   ]
  },
  {
   "cell_type": "markdown",
   "metadata": {},
   "source": [
    "### Units"
   ]
  },
  {
   "cell_type": "code",
   "execution_count": 5,
   "metadata": {},
   "outputs": [
    {
     "name": "stderr",
     "output_type": "stream",
     "text": [
      "Warning message in eval(expr, envir, enclos):\n",
      "“NAs introducidos por coerción”"
     ]
    }
   ],
   "source": [
    "#Length\n",
    "df$length <- df$length/1000 #km\n",
    "\n",
    "#Flow\n",
    "df$flow <- df$ncyclists*4 #number of cyclists per hour\n",
    "max_flow <- 2000 #cyclists/hr\n",
    "\n",
    "#Travel time\n",
    "df$tt <- as.numeric(as.character(df$tt))\n",
    "df$tt <- df$tt/3600 #hr\n",
    "\n",
    "#Free flow travel time\n",
    "df$ff_tt <- as.numeric(as.character(df$ff_tt))\n",
    "df$ff_tt <- df$ff_tt/3600 #hr"
   ]
  },
  {
   "cell_type": "markdown",
   "metadata": {},
   "source": [
    "###  New variables"
   ]
  },
  {
   "cell_type": "code",
   "execution_count": 6,
   "metadata": {},
   "outputs": [],
   "source": [
    "df$ff_speed <- df$length/df$tt #Free flow speed"
   ]
  },
  {
   "cell_type": "code",
   "execution_count": 7,
   "metadata": {},
   "outputs": [],
   "source": [
    "df$t_speed <- df$ff_speed/2*(1+sqrt(1-df$flow/max_flow)) #Theorethical speed"
   ]
  },
  {
   "cell_type": "code",
   "execution_count": 8,
   "metadata": {},
   "outputs": [],
   "source": [
    "df$t_tt <- df$length/df$t_speed #Theorethical travel time "
   ]
  },
  {
   "cell_type": "markdown",
   "metadata": {},
   "source": [
    "# 4) Descriptive statistics"
   ]
  },
  {
   "cell_type": "code",
   "execution_count": 9,
   "metadata": {},
   "outputs": [
    {
     "data": {
      "text/plain": [
       "     group        obs              arc        period          dir     \n",
       " Min.   :2   Min.   : 1.000   Min.   :1   Min.   :1.00   Min.   :1.0  \n",
       " 1st Qu.:3   1st Qu.: 4.000   1st Qu.:2   1st Qu.:2.75   1st Qu.:1.0  \n",
       " Median :5   Median : 7.500   Median :4   Median :4.50   Median :1.5  \n",
       " Mean   :5   Mean   : 7.929   Mean   :4   Mean   :4.50   Mean   :1.5  \n",
       " 3rd Qu.:7   3rd Qu.:12.000   3rd Qu.:6   3rd Qu.:6.25   3rd Qu.:2.0  \n",
       " Max.   :8   Max.   :16.000   Max.   :7   Max.   :8.00   Max.   :2.0  \n",
       "                                                                      \n",
       "     length           ff_tt                tt             ncyclists     \n",
       " Min.   :0.0540   Min.   :0.002028   Min.   :0.000000   Min.   : 0.000  \n",
       " 1st Qu.:0.0900   1st Qu.:0.003694   1st Qu.:0.004500   1st Qu.: 3.000  \n",
       " Median :0.1000   Median :0.004193   Median :0.005639   Median : 6.000  \n",
       " Mean   :0.1039   Mean   :0.004162   Mean   :0.005636   Mean   : 6.911  \n",
       " 3rd Qu.:0.1300   3rd Qu.:0.004528   3rd Qu.:0.006861   3rd Qu.:10.250  \n",
       " Max.   :0.1400   Max.   :0.005614   Max.   :0.012639   Max.   :21.000  \n",
       "                                     NA's   :3                          \n",
       "      flow          ff_speed         t_speed            t_tt         \n",
       " Min.   : 0.00   Min.   : 7.121   Min.   : 7.117   Min.   :0.000000  \n",
       " 1st Qu.:12.00   1st Qu.:16.386   1st Qu.:16.289   1st Qu.:0.004502  \n",
       " Median :24.00   Median :18.571   Median :18.469   Median :0.005656  \n",
       " Mean   :27.64   Mean   :   Inf   Mean   :   Inf   Mean   :0.005658  \n",
       " 3rd Qu.:41.00   3rd Qu.:21.321   3rd Qu.:21.278   3rd Qu.:0.006901  \n",
       " Max.   :84.00   Max.   :   Inf   Max.   :   Inf   Max.   :0.012645  \n",
       "                 NA's   :3        NA's   :3        NA's   :3         "
      ]
     },
     "metadata": {},
     "output_type": "display_data"
    }
   ],
   "source": [
    "summary(df)"
   ]
  },
  {
   "cell_type": "markdown",
   "metadata": {},
   "source": [
    "# 5) Regression"
   ]
  },
  {
   "cell_type": "markdown",
   "metadata": {},
   "source": [
    "## BPR variables"
   ]
  },
  {
   "cell_type": "markdown",
   "metadata": {},
   "source": [
    "### Dependent variable "
   ]
  },
  {
   "cell_type": "code",
   "execution_count": 12,
   "metadata": {},
   "outputs": [
    {
     "name": "stderr",
     "output_type": "stream",
     "text": [
      "Warning message in log(tt - ff_tt):\n",
      "“Se han producido NaNs”"
     ]
    }
   ],
   "source": [
    "df$yBPR <- with(df,log(tt-ff_tt)) #(based on real travel times)"
   ]
  },
  {
   "cell_type": "code",
   "execution_count": 14,
   "metadata": {},
   "outputs": [
    {
     "name": "stderr",
     "output_type": "stream",
     "text": [
      "Warning message in log(t_tt - ff_tt):\n",
      "“Se han producido NaNs”"
     ]
    }
   ],
   "source": [
    "df$ytBPR <- with(df,log(t_tt-ff_tt)) #(based on theoretical travel times)"
   ]
  },
  {
   "cell_type": "markdown",
   "metadata": {},
   "source": [
    "### Independent variable"
   ]
  },
  {
   "cell_type": "code",
   "execution_count": 15,
   "metadata": {},
   "outputs": [],
   "source": [
    "df$xBPR <- with(df,flow/max_flow) "
   ]
  },
  {
   "cell_type": "markdown",
   "metadata": {},
   "source": [
    "### Removing Na's"
   ]
  },
  {
   "cell_type": "code",
   "execution_count": 16,
   "metadata": {},
   "outputs": [],
   "source": [
    "df <- subset(df,!is.na(yBPR) & yBPR != -Inf)\n",
    "df <- subset(df,!is.na(xBPR))"
   ]
  },
  {
   "cell_type": "markdown",
   "metadata": {},
   "source": [
    "### Linear regression"
   ]
  },
  {
   "cell_type": "markdown",
   "metadata": {},
   "source": [
    "#### Regular"
   ]
  },
  {
   "cell_type": "code",
   "execution_count": 17,
   "metadata": {},
   "outputs": [],
   "source": [
    "lmBPR_all <- lm(yBPR~xBPR, data = subset(df))"
   ]
  },
  {
   "cell_type": "code",
   "execution_count": 18,
   "metadata": {},
   "outputs": [
    {
     "data": {
      "text/plain": [
       "\n",
       "Call:\n",
       "lm(formula = yBPR ~ xBPR, data = subset(df))\n",
       "\n",
       "Residuals:\n",
       "    Min      1Q  Median      3Q     Max \n",
       "-4.4923 -0.5112  0.1769  0.6693  2.3125 \n",
       "\n",
       "Coefficients:\n",
       "            Estimate Std. Error t value Pr(>|t|)    \n",
       "(Intercept)  -7.1255     0.1807 -39.434   <2e-16 ***\n",
       "xBPR         21.0275    10.2338   2.055   0.0425 *  \n",
       "---\n",
       "Signif. codes:  0 ‘***’ 0.001 ‘**’ 0.01 ‘*’ 0.05 ‘.’ 0.1 ‘ ’ 1\n",
       "\n",
       "Residual standard error: 1.016 on 102 degrees of freedom\n",
       "Multiple R-squared:  0.03975,\tAdjusted R-squared:  0.03033 \n",
       "F-statistic: 4.222 on 1 and 102 DF,  p-value: 0.04246\n"
      ]
     },
     "metadata": {},
     "output_type": "display_data"
    }
   ],
   "source": [
    "summary(lmBPR_all)"
   ]
  },
  {
   "cell_type": "markdown",
   "metadata": {},
   "source": [
    "#### Fixed effects"
   ]
  },
  {
   "cell_type": "code",
   "execution_count": 19,
   "metadata": {},
   "outputs": [],
   "source": [
    "lmBPR_FE <- lm(yBPR~factor(group)+xBPR, data = subset(df))"
   ]
  },
  {
   "cell_type": "code",
   "execution_count": 20,
   "metadata": {},
   "outputs": [
    {
     "data": {
      "text/plain": [
       "\n",
       "Call:\n",
       "lm(formula = yBPR ~ factor(group) + xBPR, data = subset(df))\n",
       "\n",
       "Residuals:\n",
       "    Min      1Q  Median      3Q     Max \n",
       "-4.0726 -0.2997  0.0556  0.4533  1.7142 \n",
       "\n",
       "Coefficients:\n",
       "               Estimate Std. Error t value Pr(>|t|)    \n",
       "(Intercept)     -7.4896     0.2697 -27.769  < 2e-16 ***\n",
       "factor(group)3  -0.2731     0.3256  -0.839 0.403731    \n",
       "factor(group)4   0.8201     0.3240   2.531 0.012995 *  \n",
       "factor(group)5   0.1390     0.3416   0.407 0.684975    \n",
       "factor(group)6   0.2480     0.3351   0.740 0.461039    \n",
       "factor(group)7   0.9736     0.3293   2.957 0.003912 ** \n",
       "factor(group)8   1.1837     0.3294   3.594 0.000517 ***\n",
       "xBPR            15.4629     9.2120   1.679 0.096491 .  \n",
       "---\n",
       "Signif. codes:  0 ‘***’ 0.001 ‘**’ 0.01 ‘*’ 0.05 ‘.’ 0.1 ‘ ’ 1\n",
       "\n",
       "Residual standard error: 0.9013 on 96 degrees of freedom\n",
       "Multiple R-squared:  0.2887,\tAdjusted R-squared:  0.2369 \n",
       "F-statistic: 5.568 on 7 and 96 DF,  p-value: 2.108e-05\n"
      ]
     },
     "metadata": {},
     "output_type": "display_data"
    }
   ],
   "source": [
    "summary(lmBPR_FE)"
   ]
  },
  {
   "cell_type": "markdown",
   "metadata": {},
   "source": [
    "# 6) Plots"
   ]
  },
  {
   "cell_type": "code",
   "execution_count": null,
   "metadata": {},
   "outputs": [],
   "source": []
  },
  {
   "cell_type": "markdown",
   "metadata": {},
   "source": [
    "## Function to make predictions according to BPR"
   ]
  },
  {
   "cell_type": "code",
   "execution_count": 21,
   "metadata": {},
   "outputs": [],
   "source": [
    "\n",
    "\n",
    "bpr_prediction <- function(group, regression){\n",
    "    \n",
    "    qmax <- 2000\n",
    "    tf <- mean(df[df$group == group,]$ff_tt)\n",
    "    \n",
    "    alpha <- exp(as.numeric(regression$coefficients[1]))/(tf)\n",
    "    beta <- regression$coefficients[2]\n",
    "    \n",
    "    xCurve_flow <- seq(1, 2000, 10)\n",
    "    yCurve_tt <- tf*(1+alpha*(xCurve_flow/qmax)^(beta))\n",
    "    \n",
    "    return(data.frame(group, xCurve_flow,yCurve_tt))\n",
    "    \n",
    "}\n"
   ]
  },
  {
   "cell_type": "markdown",
   "metadata": {},
   "source": [
    "## BPR Curves"
   ]
  },
  {
   "cell_type": "code",
   "execution_count": 22,
   "metadata": {},
   "outputs": [],
   "source": [
    "BPRCurveByGroup <- lapply(2:8, function(i) bpr_prediction(group = i, regression = lmBPR_all))\n",
    "                          \n",
    "xCurve_flow <- BPRCurveByGroup[[2]][[2]]\n",
    "\n",
    "yCurve_tt_g1 <- BPRCurveByGroup[[1]][[3]]\n",
    "yCurve_tt_g2 <- BPRCurveByGroup[[2]][[3]]\n",
    "yCurve_tt_g3 <- BPRCurveByGroup[[3]][[3]]\n",
    "yCurve_tt_g4 <- BPRCurveByGroup[[4]][[3]]\n",
    "yCurve_tt_g5 <- BPRCurveByGroup[[5]][[3]]\n",
    "yCurve_tt_g6 <- BPRCurveByGroup[[6]][[3]]\n",
    "yCurve_tt_g7 <- BPRCurveByGroup[[7]][[3]]\n"
   ]
  },
  {
   "cell_type": "markdown",
   "metadata": {},
   "source": [
    "## Plots by group"
   ]
  },
  {
   "cell_type": "code",
   "execution_count": 23,
   "metadata": {},
   "outputs": [
    {
     "data": {
      "image/png": "[encoded data removed]"
     },
     "metadata": {},
     "output_type": "display_data"
    }
   ],
   "source": [
    "options(jupyter.plot_mimetypes = 'image/png')\n",
    "\n",
    "plot(xCurve_flow,3600*yCurve_tt_g1\n",
    "    , ylim = c(0,30)\n",
    "    , col = 'orange', lty = 1\n",
    "    , ylab = \"Travel Time [s]\", xlab = \"Flow [cyclists/hr]\")\n",
    "#plot(tt ~ flow, data=df, xlab=\"Flow [cyclists/hour]\", ylab=\"Travel Time [s]\", \n",
    "#   main=\"Scatter Plot\"\n",
    "#    #, xlim = c(0,1000), ylim = c(0,60)\n",
    "#    )\n",
    "\n",
    "lines(xCurve_flow, 3600*yCurve_tt_g2, col = 'red', lty = 1) # BPR curve group 3\n",
    "lines(xCurve_flow, 3600*yCurve_tt_g3, col = 'black', lty = 1) # BPR curve group 4\n",
    "lines(xCurve_flow, 3600*yCurve_tt_g4, col = 'yellow', lty = 1) # BPR curve group 5\n",
    "lines(xCurve_flow, 3600*yCurve_tt_g5, col = 'green', lty = 1) # BPR curve group 6\n",
    "lines(xCurve_flow, 3600*yCurve_tt_g6, col = 'brown', lty = 1) # BPR curve group 7\n",
    "lines(xCurve_flow, 3600*yCurve_tt_g7, col = 'blue', lty = 1) # BPR curve group 8"
   ]
  },
  {
   "cell_type": "code",
   "execution_count": null,
   "metadata": {},
   "outputs": [],
   "source": []
  }
 ],
 "metadata": {
  "kernelspec": {
   "display_name": "R",
   "language": "R",
   "name": "ir"
  },
  "language_info": {
   "codemirror_mode": "r",
   "file_extension": ".r",
   "mimetype": "text/x-r-source",
   "name": "R",
   "pygments_lexer": "r",
   "version": "3.5.0"
  }
 },
 "nbformat": 4,
 "nbformat_minor": 2
}
