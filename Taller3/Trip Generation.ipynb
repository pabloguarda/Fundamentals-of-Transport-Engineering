{
 "cells": [
  {
   "cell_type": "markdown",
   "metadata": {},
   "source": [
    "# Trip generation"
   ]
  },
  {
   "cell_type": "code",
   "execution_count": 1,
   "metadata": {},
   "outputs": [],
   "source": [
    "set.seed(2) # For replicability"
   ]
  },
  {
   "cell_type": "markdown",
   "metadata": {},
   "source": [
    "## Packages"
   ]
  },
  {
   "cell_type": "code",
   "execution_count": 2,
   "metadata": {},
   "outputs": [
    {
     "name": "stderr",
     "output_type": "stream",
     "text": [
      "Loading required package: RCurl\n",
      "Loading required package: bitops\n",
      "Loading required package: plyr\n"
     ]
    }
   ],
   "source": [
    "require(RCurl) #To read databases from htlm websites\n",
    "require(plyr)"
   ]
  },
  {
   "cell_type": "markdown",
   "metadata": {},
   "source": [
    "### Codebook"
   ]
  },
  {
   "cell_type": "code",
   "execution_count": 3,
   "metadata": {},
   "outputs": [],
   "source": [
    "#Dependent variable\n",
    "# y: Number of daily trips per household \n",
    "\n",
    "#Explanatory variables\n",
    "# x1 = number of workers\n",
    "# x2 = number of students\n",
    "# x3 = number of cars\n",
    "# x4 = number of men\n",
    "# x5 = average monthly household income\n",
    "# z = zone"
   ]
  },
  {
   "cell_type": "markdown",
   "metadata": {},
   "source": [
    "### Data Simulation"
   ]
  },
  {
   "cell_type": "markdown",
   "metadata": {},
   "source": [
    "#### Number of observations"
   ]
  },
  {
   "cell_type": "code",
   "execution_count": 4,
   "metadata": {},
   "outputs": [],
   "source": [
    "n <- 30"
   ]
  },
  {
   "cell_type": "markdown",
   "metadata": {},
   "source": [
    "#### Beta parameters"
   ]
  },
  {
   "cell_type": "code",
   "execution_count": 5,
   "metadata": {},
   "outputs": [],
   "source": [
    "b <- c(b0=2,b1=3,b2=2,b3=2,b4=1e-2,b5=1e-6) #Betas, including intercept"
   ]
  },
  {
   "cell_type": "code",
   "execution_count": 6,
   "metadata": {},
   "outputs": [
    {
     "data": {
      "text/html": [
       "<dl class=dl-horizontal>\n",
       "\t<dt>b0</dt>\n",
       "\t\t<dd>2</dd>\n",
       "\t<dt>b1</dt>\n",
       "\t\t<dd>3</dd>\n",
       "\t<dt>b2</dt>\n",
       "\t\t<dd>2</dd>\n",
       "\t<dt>b3</dt>\n",
       "\t\t<dd>2</dd>\n",
       "\t<dt>b4</dt>\n",
       "\t\t<dd>0.01</dd>\n",
       "\t<dt>b5</dt>\n",
       "\t\t<dd>1e-06</dd>\n",
       "</dl>\n"
      ],
      "text/latex": [
       "\\begin{description*}\n",
       "\\item[b0] 2\n",
       "\\item[b1] 3\n",
       "\\item[b2] 2\n",
       "\\item[b3] 2\n",
       "\\item[b4] 0.01\n",
       "\\item[b5] 1e-06\n",
       "\\end{description*}\n"
      ],
      "text/markdown": [
       "b0\n",
       ":   2b1\n",
       ":   3b2\n",
       ":   2b3\n",
       ":   2b4\n",
       ":   0.01b5\n",
       ":   1e-06\n",
       "\n"
      ],
      "text/plain": [
       "   b0    b1    b2    b3    b4    b5 \n",
       "2e+00 3e+00 2e+00 2e+00 1e-02 1e-06 "
      ]
     },
     "metadata": {},
     "output_type": "display_data"
    }
   ],
   "source": [
    "b"
   ]
  },
  {
   "cell_type": "markdown",
   "metadata": {},
   "source": [
    "### Generation of an error term normally distributed ($\\mu = 0, \\sigma =1$)"
   ]
  },
  {
   "cell_type": "code",
   "execution_count": 7,
   "metadata": {},
   "outputs": [],
   "source": [
    "error <- rnorm(n, mean = 0, sd=1)"
   ]
  },
  {
   "cell_type": "markdown",
   "metadata": {},
   "source": [
    "### Generation of random positive integers for each explanatory variable"
   ]
  },
  {
   "cell_type": "code",
   "execution_count": 8,
   "metadata": {},
   "outputs": [],
   "source": [
    "x1 <- sample(0:2, n, replace=TRUE)"
   ]
  },
  {
   "cell_type": "code",
   "execution_count": 9,
   "metadata": {},
   "outputs": [],
   "source": [
    "x2 <- sample(0:2, n, replace=TRUE)"
   ]
  },
  {
   "cell_type": "code",
   "execution_count": 10,
   "metadata": {},
   "outputs": [],
   "source": [
    "x3 <- sample(0:1, n, replace=TRUE)"
   ]
  },
  {
   "cell_type": "code",
   "execution_count": 11,
   "metadata": {},
   "outputs": [],
   "source": [
    "x4 <- sample(0:5, n, replace=TRUE)"
   ]
  },
  {
   "cell_type": "code",
   "execution_count": 12,
   "metadata": {},
   "outputs": [],
   "source": [
    "x5 <- 1e5*sample(2:20, n, replace=TRUE) #Chilean pesos"
   ]
  },
  {
   "cell_type": "code",
   "execution_count": null,
   "metadata": {},
   "outputs": [],
   "source": []
  },
  {
   "cell_type": "markdown",
   "metadata": {},
   "source": [
    "### The dependent variable (y) is a linear combination of the explanatory variables and the error term"
   ]
  },
  {
   "cell_type": "code",
   "execution_count": 13,
   "metadata": {},
   "outputs": [],
   "source": [
    "y <- b[\"b0\"]+b[\"b1\"]*x1+b[\"b2\"]*x2+b[\"b3\"]*x3+b[\"b4\"]*x4+b[\"b5\"]*x5+error"
   ]
  },
  {
   "cell_type": "code",
   "execution_count": 14,
   "metadata": {},
   "outputs": [],
   "source": [
    "y <- round(y) # Y will be rounded because it is an integer variable"
   ]
  },
  {
   "cell_type": "markdown",
   "metadata": {},
   "source": [
    "## Simulated dataset"
   ]
  },
  {
   "cell_type": "code",
   "execution_count": 15,
   "metadata": {},
   "outputs": [],
   "source": [
    "df <- data.frame(hh=1:n,x1,x2,x3,x4,x5,y)"
   ]
  },
  {
   "cell_type": "code",
   "execution_count": 16,
   "metadata": {},
   "outputs": [
    {
     "data": {
      "text/html": [
       "<table>\n",
       "<thead><tr><th scope=col>hh</th><th scope=col>x1</th><th scope=col>x2</th><th scope=col>x3</th><th scope=col>x4</th><th scope=col>x5</th><th scope=col>y</th></tr></thead>\n",
       "<tbody>\n",
       "\t<tr><td>1      </td><td>2      </td><td>2      </td><td>0      </td><td>1      </td><td>1900000</td><td>13     </td></tr>\n",
       "\t<tr><td>2      </td><td>2      </td><td>1      </td><td>0      </td><td>2      </td><td>1200000</td><td>11     </td></tr>\n",
       "\t<tr><td>3      </td><td>1      </td><td>1      </td><td>1      </td><td>5      </td><td>2000000</td><td>13     </td></tr>\n",
       "\t<tr><td>4      </td><td>0      </td><td>1      </td><td>1      </td><td>2      </td><td>1600000</td><td> 6     </td></tr>\n",
       "\t<tr><td>5      </td><td>2      </td><td>1      </td><td>0      </td><td>4      </td><td> 400000</td><td>10     </td></tr>\n",
       "\t<tr><td>6      </td><td>1      </td><td>0      </td><td>1      </td><td>1      </td><td>1700000</td><td> 9     </td></tr>\n",
       "</tbody>\n",
       "</table>\n"
      ],
      "text/latex": [
       "\\begin{tabular}{r|lllllll}\n",
       " hh & x1 & x2 & x3 & x4 & x5 & y\\\\\n",
       "\\hline\n",
       "\t 1       & 2       & 2       & 0       & 1       & 1900000 & 13     \\\\\n",
       "\t 2       & 2       & 1       & 0       & 2       & 1200000 & 11     \\\\\n",
       "\t 3       & 1       & 1       & 1       & 5       & 2000000 & 13     \\\\\n",
       "\t 4       & 0       & 1       & 1       & 2       & 1600000 &  6     \\\\\n",
       "\t 5       & 2       & 1       & 0       & 4       &  400000 & 10     \\\\\n",
       "\t 6       & 1       & 0       & 1       & 1       & 1700000 &  9     \\\\\n",
       "\\end{tabular}\n"
      ],
      "text/markdown": [
       "\n",
       "hh | x1 | x2 | x3 | x4 | x5 | y | \n",
       "|---|---|---|---|---|---|\n",
       "| 1       | 2       | 2       | 0       | 1       | 1900000 | 13      | \n",
       "| 2       | 2       | 1       | 0       | 2       | 1200000 | 11      | \n",
       "| 3       | 1       | 1       | 1       | 5       | 2000000 | 13      | \n",
       "| 4       | 0       | 1       | 1       | 2       | 1600000 |  6      | \n",
       "| 5       | 2       | 1       | 0       | 4       |  400000 | 10      | \n",
       "| 6       | 1       | 0       | 1       | 1       | 1700000 |  9      | \n",
       "\n",
       "\n"
      ],
      "text/plain": [
       "  hh x1 x2 x3 x4 x5      y \n",
       "1 1  2  2  0  1  1900000 13\n",
       "2 2  2  1  0  2  1200000 11\n",
       "3 3  1  1  1  5  2000000 13\n",
       "4 4  0  1  1  2  1600000  6\n",
       "5 5  2  1  0  4   400000 10\n",
       "6 6  1  0  1  1  1700000  9"
      ]
     },
     "metadata": {},
     "output_type": "display_data"
    }
   ],
   "source": [
    "head(df)"
   ]
  },
  {
   "cell_type": "code",
   "execution_count": 17,
   "metadata": {},
   "outputs": [
    {
     "data": {
      "text/html": [
       "<table>\n",
       "<thead><tr><th scope=col>hh</th><th scope=col>x1</th><th scope=col>x2</th><th scope=col>x3</th><th scope=col>x4</th><th scope=col>x5</th><th scope=col>y</th></tr></thead>\n",
       "<tbody>\n",
       "\t<tr><td> 1     </td><td>2      </td><td>2      </td><td>0      </td><td>1      </td><td>1900000</td><td>13     </td></tr>\n",
       "\t<tr><td> 2     </td><td>2      </td><td>1      </td><td>0      </td><td>2      </td><td>1200000</td><td>11     </td></tr>\n",
       "\t<tr><td> 3     </td><td>1      </td><td>1      </td><td>1      </td><td>5      </td><td>2000000</td><td>13     </td></tr>\n",
       "\t<tr><td> 4     </td><td>0      </td><td>1      </td><td>1      </td><td>2      </td><td>1600000</td><td> 6     </td></tr>\n",
       "\t<tr><td> 5     </td><td>2      </td><td>1      </td><td>0      </td><td>4      </td><td> 400000</td><td>10     </td></tr>\n",
       "\t<tr><td> 6     </td><td>1      </td><td>0      </td><td>1      </td><td>1      </td><td>1700000</td><td> 9     </td></tr>\n",
       "\t<tr><td> 7     </td><td>1      </td><td>1      </td><td>1      </td><td>5      </td><td> 300000</td><td>10     </td></tr>\n",
       "\t<tr><td> 8     </td><td>1      </td><td>0      </td><td>0      </td><td>1      </td><td>1600000</td><td> 6     </td></tr>\n",
       "\t<tr><td> 9     </td><td>0      </td><td>0      </td><td>1      </td><td>0      </td><td> 300000</td><td> 6     </td></tr>\n",
       "\t<tr><td>10     </td><td>0      </td><td>1      </td><td>0      </td><td>1      </td><td> 300000</td><td> 4     </td></tr>\n",
       "\t<tr><td>11     </td><td>0      </td><td>0      </td><td>0      </td><td>5      </td><td> 300000</td><td> 3     </td></tr>\n",
       "\t<tr><td>12     </td><td>0      </td><td>1      </td><td>1      </td><td>5      </td><td> 900000</td><td> 8     </td></tr>\n",
       "\t<tr><td>13     </td><td>0      </td><td>2      </td><td>0      </td><td>0      </td><td>2000000</td><td> 8     </td></tr>\n",
       "\t<tr><td>14     </td><td>0      </td><td>2      </td><td>1      </td><td>4      </td><td> 500000</td><td> 8     </td></tr>\n",
       "\t<tr><td>15     </td><td>0      </td><td>0      </td><td>0      </td><td>1      </td><td>1100000</td><td> 5     </td></tr>\n",
       "\t<tr><td>16     </td><td>2      </td><td>1      </td><td>1      </td><td>3      </td><td> 500000</td><td>10     </td></tr>\n",
       "\t<tr><td>17     </td><td>0      </td><td>2      </td><td>1      </td><td>0      </td><td> 500000</td><td> 9     </td></tr>\n",
       "\t<tr><td>18     </td><td>2      </td><td>1      </td><td>1      </td><td>5      </td><td> 500000</td><td>13     </td></tr>\n",
       "\t<tr><td>19     </td><td>1      </td><td>0      </td><td>0      </td><td>0      </td><td> 700000</td><td> 7     </td></tr>\n",
       "\t<tr><td>20     </td><td>1      </td><td>0      </td><td>0      </td><td>3      </td><td> 400000</td><td> 6     </td></tr>\n",
       "\t<tr><td>21     </td><td>1      </td><td>0      </td><td>0      </td><td>5      </td><td>1800000</td><td> 9     </td></tr>\n",
       "\t<tr><td>22     </td><td>2      </td><td>2      </td><td>0      </td><td>0      </td><td>1400000</td><td>12     </td></tr>\n",
       "\t<tr><td>23     </td><td>0      </td><td>1      </td><td>1      </td><td>1      </td><td>1300000</td><td> 9     </td></tr>\n",
       "\t<tr><td>24     </td><td>1      </td><td>1      </td><td>0      </td><td>5      </td><td>2000000</td><td>11     </td></tr>\n",
       "\t<tr><td>25     </td><td>0      </td><td>2      </td><td>0      </td><td>2      </td><td> 900000</td><td> 7     </td></tr>\n",
       "\t<tr><td>26     </td><td>2      </td><td>2      </td><td>1      </td><td>4      </td><td>1700000</td><td>13     </td></tr>\n",
       "\t<tr><td>27     </td><td>2      </td><td>2      </td><td>1      </td><td>2      </td><td> 600000</td><td>15     </td></tr>\n",
       "\t<tr><td>28     </td><td>0      </td><td>0      </td><td>0      </td><td>0      </td><td> 500000</td><td> 2     </td></tr>\n",
       "\t<tr><td>29     </td><td>2      </td><td>2      </td><td>0      </td><td>3      </td><td> 500000</td><td>13     </td></tr>\n",
       "\t<tr><td>30     </td><td>1      </td><td>1      </td><td>0      </td><td>3      </td><td> 600000</td><td> 8     </td></tr>\n",
       "</tbody>\n",
       "</table>\n"
      ],
      "text/latex": [
       "\\begin{tabular}{r|lllllll}\n",
       " hh & x1 & x2 & x3 & x4 & x5 & y\\\\\n",
       "\\hline\n",
       "\t  1      & 2       & 2       & 0       & 1       & 1900000 & 13     \\\\\n",
       "\t  2      & 2       & 1       & 0       & 2       & 1200000 & 11     \\\\\n",
       "\t  3      & 1       & 1       & 1       & 5       & 2000000 & 13     \\\\\n",
       "\t  4      & 0       & 1       & 1       & 2       & 1600000 &  6     \\\\\n",
       "\t  5      & 2       & 1       & 0       & 4       &  400000 & 10     \\\\\n",
       "\t  6      & 1       & 0       & 1       & 1       & 1700000 &  9     \\\\\n",
       "\t  7      & 1       & 1       & 1       & 5       &  300000 & 10     \\\\\n",
       "\t  8      & 1       & 0       & 0       & 1       & 1600000 &  6     \\\\\n",
       "\t  9      & 0       & 0       & 1       & 0       &  300000 &  6     \\\\\n",
       "\t 10      & 0       & 1       & 0       & 1       &  300000 &  4     \\\\\n",
       "\t 11      & 0       & 0       & 0       & 5       &  300000 &  3     \\\\\n",
       "\t 12      & 0       & 1       & 1       & 5       &  900000 &  8     \\\\\n",
       "\t 13      & 0       & 2       & 0       & 0       & 2000000 &  8     \\\\\n",
       "\t 14      & 0       & 2       & 1       & 4       &  500000 &  8     \\\\\n",
       "\t 15      & 0       & 0       & 0       & 1       & 1100000 &  5     \\\\\n",
       "\t 16      & 2       & 1       & 1       & 3       &  500000 & 10     \\\\\n",
       "\t 17      & 0       & 2       & 1       & 0       &  500000 &  9     \\\\\n",
       "\t 18      & 2       & 1       & 1       & 5       &  500000 & 13     \\\\\n",
       "\t 19      & 1       & 0       & 0       & 0       &  700000 &  7     \\\\\n",
       "\t 20      & 1       & 0       & 0       & 3       &  400000 &  6     \\\\\n",
       "\t 21      & 1       & 0       & 0       & 5       & 1800000 &  9     \\\\\n",
       "\t 22      & 2       & 2       & 0       & 0       & 1400000 & 12     \\\\\n",
       "\t 23      & 0       & 1       & 1       & 1       & 1300000 &  9     \\\\\n",
       "\t 24      & 1       & 1       & 0       & 5       & 2000000 & 11     \\\\\n",
       "\t 25      & 0       & 2       & 0       & 2       &  900000 &  7     \\\\\n",
       "\t 26      & 2       & 2       & 1       & 4       & 1700000 & 13     \\\\\n",
       "\t 27      & 2       & 2       & 1       & 2       &  600000 & 15     \\\\\n",
       "\t 28      & 0       & 0       & 0       & 0       &  500000 &  2     \\\\\n",
       "\t 29      & 2       & 2       & 0       & 3       &  500000 & 13     \\\\\n",
       "\t 30      & 1       & 1       & 0       & 3       &  600000 &  8     \\\\\n",
       "\\end{tabular}\n"
      ],
      "text/markdown": [
       "\n",
       "hh | x1 | x2 | x3 | x4 | x5 | y | \n",
       "|---|---|---|---|---|---|---|---|---|---|---|---|---|---|---|---|---|---|---|---|---|---|---|---|---|---|---|---|---|---|\n",
       "|  1      | 2       | 2       | 0       | 1       | 1900000 | 13      | \n",
       "|  2      | 2       | 1       | 0       | 2       | 1200000 | 11      | \n",
       "|  3      | 1       | 1       | 1       | 5       | 2000000 | 13      | \n",
       "|  4      | 0       | 1       | 1       | 2       | 1600000 |  6      | \n",
       "|  5      | 2       | 1       | 0       | 4       |  400000 | 10      | \n",
       "|  6      | 1       | 0       | 1       | 1       | 1700000 |  9      | \n",
       "|  7      | 1       | 1       | 1       | 5       |  300000 | 10      | \n",
       "|  8      | 1       | 0       | 0       | 1       | 1600000 |  6      | \n",
       "|  9      | 0       | 0       | 1       | 0       |  300000 |  6      | \n",
       "| 10      | 0       | 1       | 0       | 1       |  300000 |  4      | \n",
       "| 11      | 0       | 0       | 0       | 5       |  300000 |  3      | \n",
       "| 12      | 0       | 1       | 1       | 5       |  900000 |  8      | \n",
       "| 13      | 0       | 2       | 0       | 0       | 2000000 |  8      | \n",
       "| 14      | 0       | 2       | 1       | 4       |  500000 |  8      | \n",
       "| 15      | 0       | 0       | 0       | 1       | 1100000 |  5      | \n",
       "| 16      | 2       | 1       | 1       | 3       |  500000 | 10      | \n",
       "| 17      | 0       | 2       | 1       | 0       |  500000 |  9      | \n",
       "| 18      | 2       | 1       | 1       | 5       |  500000 | 13      | \n",
       "| 19      | 1       | 0       | 0       | 0       |  700000 |  7      | \n",
       "| 20      | 1       | 0       | 0       | 3       |  400000 |  6      | \n",
       "| 21      | 1       | 0       | 0       | 5       | 1800000 |  9      | \n",
       "| 22      | 2       | 2       | 0       | 0       | 1400000 | 12      | \n",
       "| 23      | 0       | 1       | 1       | 1       | 1300000 |  9      | \n",
       "| 24      | 1       | 1       | 0       | 5       | 2000000 | 11      | \n",
       "| 25      | 0       | 2       | 0       | 2       |  900000 |  7      | \n",
       "| 26      | 2       | 2       | 1       | 4       | 1700000 | 13      | \n",
       "| 27      | 2       | 2       | 1       | 2       |  600000 | 15      | \n",
       "| 28      | 0       | 0       | 0       | 0       |  500000 |  2      | \n",
       "| 29      | 2       | 2       | 0       | 3       |  500000 | 13      | \n",
       "| 30      | 1       | 1       | 0       | 3       |  600000 |  8      | \n",
       "\n",
       "\n"
      ],
      "text/plain": [
       "   hh x1 x2 x3 x4 x5      y \n",
       "1   1 2  2  0  1  1900000 13\n",
       "2   2 2  1  0  2  1200000 11\n",
       "3   3 1  1  1  5  2000000 13\n",
       "4   4 0  1  1  2  1600000  6\n",
       "5   5 2  1  0  4   400000 10\n",
       "6   6 1  0  1  1  1700000  9\n",
       "7   7 1  1  1  5   300000 10\n",
       "8   8 1  0  0  1  1600000  6\n",
       "9   9 0  0  1  0   300000  6\n",
       "10 10 0  1  0  1   300000  4\n",
       "11 11 0  0  0  5   300000  3\n",
       "12 12 0  1  1  5   900000  8\n",
       "13 13 0  2  0  0  2000000  8\n",
       "14 14 0  2  1  4   500000  8\n",
       "15 15 0  0  0  1  1100000  5\n",
       "16 16 2  1  1  3   500000 10\n",
       "17 17 0  2  1  0   500000  9\n",
       "18 18 2  1  1  5   500000 13\n",
       "19 19 1  0  0  0   700000  7\n",
       "20 20 1  0  0  3   400000  6\n",
       "21 21 1  0  0  5  1800000  9\n",
       "22 22 2  2  0  0  1400000 12\n",
       "23 23 0  1  1  1  1300000  9\n",
       "24 24 1  1  0  5  2000000 11\n",
       "25 25 0  2  0  2   900000  7\n",
       "26 26 2  2  1  4  1700000 13\n",
       "27 27 2  2  1  2   600000 15\n",
       "28 28 0  0  0  0   500000  2\n",
       "29 29 2  2  0  3   500000 13\n",
       "30 30 1  1  0  3   600000  8"
      ]
     },
     "metadata": {},
     "output_type": "display_data"
    }
   ],
   "source": [
    "df"
   ]
  },
  {
   "cell_type": "markdown",
   "metadata": {},
   "source": [
    "## Descriptive Statistics"
   ]
  },
  {
   "cell_type": "code",
   "execution_count": 18,
   "metadata": {},
   "outputs": [
    {
     "data": {
      "text/plain": [
       "       hh              x1            x2          x3               x4       \n",
       " Min.   : 1.00   Min.   :0.0   Min.   :0   Min.   :0.0000   Min.   :0.000  \n",
       " 1st Qu.: 8.25   1st Qu.:0.0   1st Qu.:0   1st Qu.:0.0000   1st Qu.:1.000  \n",
       " Median :15.50   Median :1.0   Median :1   Median :0.0000   Median :2.000  \n",
       " Mean   :15.50   Mean   :0.9   Mean   :1   Mean   :0.4333   Mean   :2.433  \n",
       " 3rd Qu.:22.75   3rd Qu.:2.0   3rd Qu.:2   3rd Qu.:1.0000   3rd Qu.:4.000  \n",
       " Max.   :30.00   Max.   :2.0   Max.   :2   Max.   :1.0000   Max.   :5.000  \n",
       "       x5                y        \n",
       " Min.   : 300000   Min.   : 2.00  \n",
       " 1st Qu.: 500000   1st Qu.: 6.25  \n",
       " Median : 800000   Median : 9.00  \n",
       " Mean   :1000000   Mean   : 8.80  \n",
       " 3rd Qu.:1600000   3rd Qu.:11.00  \n",
       " Max.   :2000000   Max.   :15.00  "
      ]
     },
     "metadata": {},
     "output_type": "display_data"
    }
   ],
   "source": [
    "summary(df)"
   ]
  },
  {
   "cell_type": "markdown",
   "metadata": {},
   "source": [
    "## Multiple Linear Regression"
   ]
  },
  {
   "cell_type": "markdown",
   "metadata": {},
   "source": [
    "### Model including all explanatory variables"
   ]
  },
  {
   "cell_type": "code",
   "execution_count": 19,
   "metadata": {},
   "outputs": [],
   "source": [
    "generation_MLR <- lm(y~x1+x2+x3+x4+x5, data = subset(df))"
   ]
  },
  {
   "cell_type": "code",
   "execution_count": 20,
   "metadata": {},
   "outputs": [
    {
     "data": {
      "text/plain": [
       "\n",
       "Call:\n",
       "lm(formula = y ~ x1 + x2 + x3 + x4 + x5, data = subset(df))\n",
       "\n",
       "Residuals:\n",
       "     Min       1Q   Median       3Q      Max \n",
       "-2.18496 -0.63323  0.01849  0.90845  1.47881 \n",
       "\n",
       "Coefficients:\n",
       "             Estimate Std. Error t value Pr(>|t|)    \n",
       "(Intercept) 2.705e+00  5.747e-01   4.706 8.76e-05 ***\n",
       "x1          2.494e+00  2.768e-01   9.008 3.63e-09 ***\n",
       "x2          1.507e+00  2.932e-01   5.138 2.93e-05 ***\n",
       "x3          1.780e+00  4.518e-01   3.939 0.000614 ***\n",
       "x4          1.706e-01  1.211e-01   1.409 0.171749    \n",
       "x5          1.158e-06  3.551e-07   3.261 0.003316 ** \n",
       "---\n",
       "Signif. codes:  0 ‘***’ 0.001 ‘**’ 0.01 ‘*’ 0.05 ‘.’ 0.1 ‘ ’ 1\n",
       "\n",
       "Residual standard error: 1.166 on 24 degrees of freedom\n",
       "Multiple R-squared:  0.8944,\tAdjusted R-squared:  0.8724 \n",
       "F-statistic: 40.65 on 5 and 24 DF,  p-value: 5.979e-11\n"
      ]
     },
     "metadata": {},
     "output_type": "display_data"
    }
   ],
   "source": [
    "summary(generation_MLR)"
   ]
  },
  {
   "cell_type": "markdown",
   "metadata": {},
   "source": [
    "### The parameter of the explanatory variable $x_4 (\\beta_4)$ is not significant so it is excluded from the model"
   ]
  },
  {
   "cell_type": "code",
   "execution_count": 21,
   "metadata": {},
   "outputs": [],
   "source": [
    "generation_MLR1 <- lm(y~1+x1+x2+x3+x5, data = subset(df))"
   ]
  },
  {
   "cell_type": "code",
   "execution_count": 22,
   "metadata": {},
   "outputs": [
    {
     "data": {
      "text/plain": [
       "\n",
       "Call:\n",
       "lm(formula = y ~ 1 + x1 + x2 + x3 + x5, data = subset(df))\n",
       "\n",
       "Residuals:\n",
       "     Min       1Q   Median       3Q      Max \n",
       "-2.23940 -0.47541 -0.01483  0.71626  1.70926 \n",
       "\n",
       "Coefficients:\n",
       "             Estimate Std. Error t value Pr(>|t|)    \n",
       "(Intercept) 3.026e+00  5.379e-01   5.625 7.47e-06 ***\n",
       "x1          2.595e+00  2.725e-01   9.521 8.55e-10 ***\n",
       "x2          1.464e+00  2.974e-01   4.923 4.54e-05 ***\n",
       "x3          1.924e+00  4.486e-01   4.288 0.000236 ***\n",
       "x5          1.141e-06  3.618e-07   3.154 0.004161 ** \n",
       "---\n",
       "Signif. codes:  0 ‘***’ 0.001 ‘**’ 0.01 ‘*’ 0.05 ‘.’ 0.1 ‘ ’ 1\n",
       "\n",
       "Residual standard error: 1.188 on 25 degrees of freedom\n",
       "Multiple R-squared:  0.8857,\tAdjusted R-squared:  0.8674 \n",
       "F-statistic: 48.42 on 4 and 25 DF,  p-value: 2.036e-11\n"
      ]
     },
     "metadata": {},
     "output_type": "display_data"
    }
   ],
   "source": [
    "summary(generation_MLR1)"
   ]
  },
  {
   "cell_type": "markdown",
   "metadata": {},
   "source": [
    "## Predicting generated trips by zone"
   ]
  },
  {
   "cell_type": "markdown",
   "metadata": {},
   "source": [
    "### Zonal data"
   ]
  },
  {
   "cell_type": "code",
   "execution_count": 23,
   "metadata": {},
   "outputs": [],
   "source": [
    "nZones <- 3"
   ]
  },
  {
   "cell_type": "markdown",
   "metadata": {},
   "source": [
    "### Random asignment of household to each zone"
   ]
  },
  {
   "cell_type": "code",
   "execution_count": 24,
   "metadata": {},
   "outputs": [
    {
     "data": {
      "text/html": [
       "<table>\n",
       "<thead><tr><th scope=col>hh</th><th scope=col>x1</th><th scope=col>x2</th><th scope=col>x3</th><th scope=col>x4</th><th scope=col>x5</th><th scope=col>y</th><th scope=col>zone</th></tr></thead>\n",
       "<tbody>\n",
       "\t<tr><td> 1     </td><td>2      </td><td>2      </td><td>0      </td><td>1      </td><td>1900000</td><td>13     </td><td>3      </td></tr>\n",
       "\t<tr><td> 2     </td><td>2      </td><td>1      </td><td>0      </td><td>2      </td><td>1200000</td><td>11     </td><td>2      </td></tr>\n",
       "\t<tr><td> 3     </td><td>1      </td><td>1      </td><td>1      </td><td>5      </td><td>2000000</td><td>13     </td><td>3      </td></tr>\n",
       "\t<tr><td> 4     </td><td>0      </td><td>1      </td><td>1      </td><td>2      </td><td>1600000</td><td> 6     </td><td>3      </td></tr>\n",
       "\t<tr><td> 5     </td><td>2      </td><td>1      </td><td>0      </td><td>4      </td><td> 400000</td><td>10     </td><td>3      </td></tr>\n",
       "\t<tr><td> 6     </td><td>1      </td><td>0      </td><td>1      </td><td>1      </td><td>1700000</td><td> 9     </td><td>1      </td></tr>\n",
       "\t<tr><td> 7     </td><td>1      </td><td>1      </td><td>1      </td><td>5      </td><td> 300000</td><td>10     </td><td>2      </td></tr>\n",
       "\t<tr><td> 8     </td><td>1      </td><td>0      </td><td>0      </td><td>1      </td><td>1600000</td><td> 6     </td><td>1      </td></tr>\n",
       "\t<tr><td> 9     </td><td>0      </td><td>0      </td><td>1      </td><td>0      </td><td> 300000</td><td> 6     </td><td>2      </td></tr>\n",
       "\t<tr><td>10     </td><td>0      </td><td>1      </td><td>0      </td><td>1      </td><td> 300000</td><td> 4     </td><td>1      </td></tr>\n",
       "\t<tr><td>11     </td><td>0      </td><td>0      </td><td>0      </td><td>5      </td><td> 300000</td><td> 3     </td><td>1      </td></tr>\n",
       "\t<tr><td>12     </td><td>0      </td><td>1      </td><td>1      </td><td>5      </td><td> 900000</td><td> 8     </td><td>3      </td></tr>\n",
       "\t<tr><td>13     </td><td>0      </td><td>2      </td><td>0      </td><td>0      </td><td>2000000</td><td> 8     </td><td>2      </td></tr>\n",
       "\t<tr><td>14     </td><td>0      </td><td>2      </td><td>1      </td><td>4      </td><td> 500000</td><td> 8     </td><td>2      </td></tr>\n",
       "\t<tr><td>15     </td><td>0      </td><td>0      </td><td>0      </td><td>1      </td><td>1100000</td><td> 5     </td><td>3      </td></tr>\n",
       "\t<tr><td>16     </td><td>2      </td><td>1      </td><td>1      </td><td>3      </td><td> 500000</td><td>10     </td><td>3      </td></tr>\n",
       "\t<tr><td>17     </td><td>0      </td><td>2      </td><td>1      </td><td>0      </td><td> 500000</td><td> 9     </td><td>3      </td></tr>\n",
       "\t<tr><td>18     </td><td>2      </td><td>1      </td><td>1      </td><td>5      </td><td> 500000</td><td>13     </td><td>2      </td></tr>\n",
       "\t<tr><td>19     </td><td>1      </td><td>0      </td><td>0      </td><td>0      </td><td> 700000</td><td> 7     </td><td>3      </td></tr>\n",
       "\t<tr><td>20     </td><td>1      </td><td>0      </td><td>0      </td><td>3      </td><td> 400000</td><td> 6     </td><td>3      </td></tr>\n",
       "\t<tr><td>21     </td><td>1      </td><td>0      </td><td>0      </td><td>5      </td><td>1800000</td><td> 9     </td><td>3      </td></tr>\n",
       "\t<tr><td>22     </td><td>2      </td><td>2      </td><td>0      </td><td>0      </td><td>1400000</td><td>12     </td><td>2      </td></tr>\n",
       "\t<tr><td>23     </td><td>0      </td><td>1      </td><td>1      </td><td>1      </td><td>1300000</td><td> 9     </td><td>3      </td></tr>\n",
       "\t<tr><td>24     </td><td>1      </td><td>1      </td><td>0      </td><td>5      </td><td>2000000</td><td>11     </td><td>2      </td></tr>\n",
       "\t<tr><td>25     </td><td>0      </td><td>2      </td><td>0      </td><td>2      </td><td> 900000</td><td> 7     </td><td>3      </td></tr>\n",
       "\t<tr><td>26     </td><td>2      </td><td>2      </td><td>1      </td><td>4      </td><td>1700000</td><td>13     </td><td>1      </td></tr>\n",
       "\t<tr><td>27     </td><td>2      </td><td>2      </td><td>1      </td><td>2      </td><td> 600000</td><td>15     </td><td>2      </td></tr>\n",
       "\t<tr><td>28     </td><td>0      </td><td>0      </td><td>0      </td><td>0      </td><td> 500000</td><td> 2     </td><td>1      </td></tr>\n",
       "\t<tr><td>29     </td><td>2      </td><td>2      </td><td>0      </td><td>3      </td><td> 500000</td><td>13     </td><td>1      </td></tr>\n",
       "\t<tr><td>30     </td><td>1      </td><td>1      </td><td>0      </td><td>3      </td><td> 600000</td><td> 8     </td><td>2      </td></tr>\n",
       "</tbody>\n",
       "</table>\n"
      ],
      "text/latex": [
       "\\begin{tabular}{r|llllllll}\n",
       " hh & x1 & x2 & x3 & x4 & x5 & y & zone\\\\\n",
       "\\hline\n",
       "\t  1      & 2       & 2       & 0       & 1       & 1900000 & 13      & 3      \\\\\n",
       "\t  2      & 2       & 1       & 0       & 2       & 1200000 & 11      & 2      \\\\\n",
       "\t  3      & 1       & 1       & 1       & 5       & 2000000 & 13      & 3      \\\\\n",
       "\t  4      & 0       & 1       & 1       & 2       & 1600000 &  6      & 3      \\\\\n",
       "\t  5      & 2       & 1       & 0       & 4       &  400000 & 10      & 3      \\\\\n",
       "\t  6      & 1       & 0       & 1       & 1       & 1700000 &  9      & 1      \\\\\n",
       "\t  7      & 1       & 1       & 1       & 5       &  300000 & 10      & 2      \\\\\n",
       "\t  8      & 1       & 0       & 0       & 1       & 1600000 &  6      & 1      \\\\\n",
       "\t  9      & 0       & 0       & 1       & 0       &  300000 &  6      & 2      \\\\\n",
       "\t 10      & 0       & 1       & 0       & 1       &  300000 &  4      & 1      \\\\\n",
       "\t 11      & 0       & 0       & 0       & 5       &  300000 &  3      & 1      \\\\\n",
       "\t 12      & 0       & 1       & 1       & 5       &  900000 &  8      & 3      \\\\\n",
       "\t 13      & 0       & 2       & 0       & 0       & 2000000 &  8      & 2      \\\\\n",
       "\t 14      & 0       & 2       & 1       & 4       &  500000 &  8      & 2      \\\\\n",
       "\t 15      & 0       & 0       & 0       & 1       & 1100000 &  5      & 3      \\\\\n",
       "\t 16      & 2       & 1       & 1       & 3       &  500000 & 10      & 3      \\\\\n",
       "\t 17      & 0       & 2       & 1       & 0       &  500000 &  9      & 3      \\\\\n",
       "\t 18      & 2       & 1       & 1       & 5       &  500000 & 13      & 2      \\\\\n",
       "\t 19      & 1       & 0       & 0       & 0       &  700000 &  7      & 3      \\\\\n",
       "\t 20      & 1       & 0       & 0       & 3       &  400000 &  6      & 3      \\\\\n",
       "\t 21      & 1       & 0       & 0       & 5       & 1800000 &  9      & 3      \\\\\n",
       "\t 22      & 2       & 2       & 0       & 0       & 1400000 & 12      & 2      \\\\\n",
       "\t 23      & 0       & 1       & 1       & 1       & 1300000 &  9      & 3      \\\\\n",
       "\t 24      & 1       & 1       & 0       & 5       & 2000000 & 11      & 2      \\\\\n",
       "\t 25      & 0       & 2       & 0       & 2       &  900000 &  7      & 3      \\\\\n",
       "\t 26      & 2       & 2       & 1       & 4       & 1700000 & 13      & 1      \\\\\n",
       "\t 27      & 2       & 2       & 1       & 2       &  600000 & 15      & 2      \\\\\n",
       "\t 28      & 0       & 0       & 0       & 0       &  500000 &  2      & 1      \\\\\n",
       "\t 29      & 2       & 2       & 0       & 3       &  500000 & 13      & 1      \\\\\n",
       "\t 30      & 1       & 1       & 0       & 3       &  600000 &  8      & 2      \\\\\n",
       "\\end{tabular}\n"
      ],
      "text/markdown": [
       "\n",
       "hh | x1 | x2 | x3 | x4 | x5 | y | zone | \n",
       "|---|---|---|---|---|---|---|---|---|---|---|---|---|---|---|---|---|---|---|---|---|---|---|---|---|---|---|---|---|---|\n",
       "|  1      | 2       | 2       | 0       | 1       | 1900000 | 13      | 3       | \n",
       "|  2      | 2       | 1       | 0       | 2       | 1200000 | 11      | 2       | \n",
       "|  3      | 1       | 1       | 1       | 5       | 2000000 | 13      | 3       | \n",
       "|  4      | 0       | 1       | 1       | 2       | 1600000 |  6      | 3       | \n",
       "|  5      | 2       | 1       | 0       | 4       |  400000 | 10      | 3       | \n",
       "|  6      | 1       | 0       | 1       | 1       | 1700000 |  9      | 1       | \n",
       "|  7      | 1       | 1       | 1       | 5       |  300000 | 10      | 2       | \n",
       "|  8      | 1       | 0       | 0       | 1       | 1600000 |  6      | 1       | \n",
       "|  9      | 0       | 0       | 1       | 0       |  300000 |  6      | 2       | \n",
       "| 10      | 0       | 1       | 0       | 1       |  300000 |  4      | 1       | \n",
       "| 11      | 0       | 0       | 0       | 5       |  300000 |  3      | 1       | \n",
       "| 12      | 0       | 1       | 1       | 5       |  900000 |  8      | 3       | \n",
       "| 13      | 0       | 2       | 0       | 0       | 2000000 |  8      | 2       | \n",
       "| 14      | 0       | 2       | 1       | 4       |  500000 |  8      | 2       | \n",
       "| 15      | 0       | 0       | 0       | 1       | 1100000 |  5      | 3       | \n",
       "| 16      | 2       | 1       | 1       | 3       |  500000 | 10      | 3       | \n",
       "| 17      | 0       | 2       | 1       | 0       |  500000 |  9      | 3       | \n",
       "| 18      | 2       | 1       | 1       | 5       |  500000 | 13      | 2       | \n",
       "| 19      | 1       | 0       | 0       | 0       |  700000 |  7      | 3       | \n",
       "| 20      | 1       | 0       | 0       | 3       |  400000 |  6      | 3       | \n",
       "| 21      | 1       | 0       | 0       | 5       | 1800000 |  9      | 3       | \n",
       "| 22      | 2       | 2       | 0       | 0       | 1400000 | 12      | 2       | \n",
       "| 23      | 0       | 1       | 1       | 1       | 1300000 |  9      | 3       | \n",
       "| 24      | 1       | 1       | 0       | 5       | 2000000 | 11      | 2       | \n",
       "| 25      | 0       | 2       | 0       | 2       |  900000 |  7      | 3       | \n",
       "| 26      | 2       | 2       | 1       | 4       | 1700000 | 13      | 1       | \n",
       "| 27      | 2       | 2       | 1       | 2       |  600000 | 15      | 2       | \n",
       "| 28      | 0       | 0       | 0       | 0       |  500000 |  2      | 1       | \n",
       "| 29      | 2       | 2       | 0       | 3       |  500000 | 13      | 1       | \n",
       "| 30      | 1       | 1       | 0       | 3       |  600000 |  8      | 2       | \n",
       "\n",
       "\n"
      ],
      "text/plain": [
       "   hh x1 x2 x3 x4 x5      y  zone\n",
       "1   1 2  2  0  1  1900000 13 3   \n",
       "2   2 2  1  0  2  1200000 11 2   \n",
       "3   3 1  1  1  5  2000000 13 3   \n",
       "4   4 0  1  1  2  1600000  6 3   \n",
       "5   5 2  1  0  4   400000 10 3   \n",
       "6   6 1  0  1  1  1700000  9 1   \n",
       "7   7 1  1  1  5   300000 10 2   \n",
       "8   8 1  0  0  1  1600000  6 1   \n",
       "9   9 0  0  1  0   300000  6 2   \n",
       "10 10 0  1  0  1   300000  4 1   \n",
       "11 11 0  0  0  5   300000  3 1   \n",
       "12 12 0  1  1  5   900000  8 3   \n",
       "13 13 0  2  0  0  2000000  8 2   \n",
       "14 14 0  2  1  4   500000  8 2   \n",
       "15 15 0  0  0  1  1100000  5 3   \n",
       "16 16 2  1  1  3   500000 10 3   \n",
       "17 17 0  2  1  0   500000  9 3   \n",
       "18 18 2  1  1  5   500000 13 2   \n",
       "19 19 1  0  0  0   700000  7 3   \n",
       "20 20 1  0  0  3   400000  6 3   \n",
       "21 21 1  0  0  5  1800000  9 3   \n",
       "22 22 2  2  0  0  1400000 12 2   \n",
       "23 23 0  1  1  1  1300000  9 3   \n",
       "24 24 1  1  0  5  2000000 11 2   \n",
       "25 25 0  2  0  2   900000  7 3   \n",
       "26 26 2  2  1  4  1700000 13 1   \n",
       "27 27 2  2  1  2   600000 15 2   \n",
       "28 28 0  0  0  0   500000  2 1   \n",
       "29 29 2  2  0  3   500000 13 1   \n",
       "30 30 1  1  0  3   600000  8 2   "
      ]
     },
     "metadata": {},
     "output_type": "display_data"
    }
   ],
   "source": [
    "df$zone <- sample(1:nZones, n, replace=TRUE)\n",
    "df"
   ]
  },
  {
   "cell_type": "markdown",
   "metadata": {},
   "source": [
    "### Number of households by zone"
   ]
  },
  {
   "cell_type": "code",
   "execution_count": 25,
   "metadata": {},
   "outputs": [],
   "source": [
    "nhhi <- as.numeric(table(df$zone))"
   ]
  },
  {
   "cell_type": "markdown",
   "metadata": {},
   "source": [
    "### Average value of the explanatory variables by zone"
   ]
  },
  {
   "cell_type": "code",
   "execution_count": 26,
   "metadata": {},
   "outputs": [
    {
     "data": {
      "text/html": [
       "<table>\n",
       "<thead><tr><th scope=col>zone</th><th scope=col>x1</th><th scope=col>x2</th><th scope=col>x3</th><th scope=col>x5</th></tr></thead>\n",
       "<tbody>\n",
       "\t<tr><td>1        </td><td>0.8571429</td><td>0.7142857</td><td>0.2857143</td><td> 942857.1</td></tr>\n",
       "\t<tr><td>2        </td><td>1.1000000</td><td>1.3000000</td><td>0.5000000</td><td> 940000.0</td></tr>\n",
       "\t<tr><td>3        </td><td>0.7692308</td><td>0.9230769</td><td>0.4615385</td><td>1076923.1</td></tr>\n",
       "</tbody>\n",
       "</table>\n"
      ],
      "text/latex": [
       "\\begin{tabular}{r|lllll}\n",
       " zone & x1 & x2 & x3 & x5\\\\\n",
       "\\hline\n",
       "\t 1         & 0.8571429 & 0.7142857 & 0.2857143 &  942857.1\\\\\n",
       "\t 2         & 1.1000000 & 1.3000000 & 0.5000000 &  940000.0\\\\\n",
       "\t 3         & 0.7692308 & 0.9230769 & 0.4615385 & 1076923.1\\\\\n",
       "\\end{tabular}\n"
      ],
      "text/markdown": [
       "\n",
       "zone | x1 | x2 | x3 | x5 | \n",
       "|---|---|---|\n",
       "| 1         | 0.8571429 | 0.7142857 | 0.2857143 |  942857.1 | \n",
       "| 2         | 1.1000000 | 1.3000000 | 0.5000000 |  940000.0 | \n",
       "| 3         | 0.7692308 | 0.9230769 | 0.4615385 | 1076923.1 | \n",
       "\n",
       "\n"
      ],
      "text/plain": [
       "  zone x1        x2        x3        x5       \n",
       "1 1    0.8571429 0.7142857 0.2857143  942857.1\n",
       "2 2    1.1000000 1.3000000 0.5000000  940000.0\n",
       "3 3    0.7692308 0.9230769 0.4615385 1076923.1"
      ]
     },
     "metadata": {},
     "output_type": "display_data"
    }
   ],
   "source": [
    "X_zone <- ddply(df, .(zone), summarize,  x1=mean(x1), x2=mean(x2),x3=mean(x3),x5=mean(x5)); X_zone"
   ]
  },
  {
   "cell_type": "markdown",
   "metadata": {},
   "source": [
    "### Predictions of the generated trips by zone"
   ]
  },
  {
   "cell_type": "markdown",
   "metadata": {},
   "source": [
    "#### Explanatory variables"
   ]
  },
  {
   "cell_type": "code",
   "execution_count": 27,
   "metadata": {},
   "outputs": [],
   "source": [
    "dfPredictions <- X_zone"
   ]
  },
  {
   "cell_type": "code",
   "execution_count": 28,
   "metadata": {},
   "outputs": [
    {
     "data": {
      "text/html": [
       "<table>\n",
       "<thead><tr><th scope=col>zone</th><th scope=col>x1</th><th scope=col>x2</th><th scope=col>x3</th><th scope=col>x5</th></tr></thead>\n",
       "<tbody>\n",
       "\t<tr><td>1        </td><td>0.8571429</td><td>0.7142857</td><td>0.2857143</td><td> 942857.1</td></tr>\n",
       "\t<tr><td>2        </td><td>1.1000000</td><td>1.3000000</td><td>0.5000000</td><td> 940000.0</td></tr>\n",
       "\t<tr><td>3        </td><td>0.7692308</td><td>0.9230769</td><td>0.4615385</td><td>1076923.1</td></tr>\n",
       "</tbody>\n",
       "</table>\n"
      ],
      "text/latex": [
       "\\begin{tabular}{r|lllll}\n",
       " zone & x1 & x2 & x3 & x5\\\\\n",
       "\\hline\n",
       "\t 1         & 0.8571429 & 0.7142857 & 0.2857143 &  942857.1\\\\\n",
       "\t 2         & 1.1000000 & 1.3000000 & 0.5000000 &  940000.0\\\\\n",
       "\t 3         & 0.7692308 & 0.9230769 & 0.4615385 & 1076923.1\\\\\n",
       "\\end{tabular}\n"
      ],
      "text/markdown": [
       "\n",
       "zone | x1 | x2 | x3 | x5 | \n",
       "|---|---|---|\n",
       "| 1         | 0.8571429 | 0.7142857 | 0.2857143 |  942857.1 | \n",
       "| 2         | 1.1000000 | 1.3000000 | 0.5000000 |  940000.0 | \n",
       "| 3         | 0.7692308 | 0.9230769 | 0.4615385 | 1076923.1 | \n",
       "\n",
       "\n"
      ],
      "text/plain": [
       "  zone x1        x2        x3        x5       \n",
       "1 1    0.8571429 0.7142857 0.2857143  942857.1\n",
       "2 2    1.1000000 1.3000000 0.5000000  940000.0\n",
       "3 3    0.7692308 0.9230769 0.4615385 1076923.1"
      ]
     },
     "metadata": {},
     "output_type": "display_data"
    }
   ],
   "source": [
    "dfPredictions"
   ]
  },
  {
   "cell_type": "markdown",
   "metadata": {},
   "source": [
    "#### Number of daily trips per household in each zone"
   ]
  },
  {
   "cell_type": "code",
   "execution_count": 29,
   "metadata": {},
   "outputs": [
    {
     "data": {
      "text/html": [
       "<dl class=dl-horizontal>\n",
       "\t<dt>1</dt>\n",
       "\t\t<dd>7.92129395076928</dd>\n",
       "\t<dt>2</dt>\n",
       "\t\t<dd>9.81798736550096</dd>\n",
       "\t<dt>3</dt>\n",
       "\t\t<dd>8.49008220689272</dd>\n",
       "</dl>\n"
      ],
      "text/latex": [
       "\\begin{description*}\n",
       "\\item[1] 7.92129395076928\n",
       "\\item[2] 9.81798736550096\n",
       "\\item[3] 8.49008220689272\n",
       "\\end{description*}\n"
      ],
      "text/markdown": [
       "1\n",
       ":   7.921293950769282\n",
       ":   9.817987365500963\n",
       ":   8.49008220689272\n",
       "\n"
      ],
      "text/plain": [
       "       1        2        3 \n",
       "7.921294 9.817987 8.490082 "
      ]
     },
     "metadata": {},
     "output_type": "display_data"
    }
   ],
   "source": [
    "dailyTripsHHi <- predict.lm(generation_MLR1,dfPredictions); dailyTripsHHi"
   ]
  },
  {
   "cell_type": "markdown",
   "metadata": {},
   "source": [
    "#### The number of trips produced in each zone correspond to the models' predictions weighted by the number of househoulds in each zone"
   ]
  },
  {
   "cell_type": "code",
   "execution_count": 30,
   "metadata": {},
   "outputs": [
    {
     "data": {
      "text/html": [
       "<dl class=dl-horizontal>\n",
       "\t<dt>1</dt>\n",
       "\t\t<dd>55</dd>\n",
       "\t<dt>2</dt>\n",
       "\t\t<dd>98</dd>\n",
       "\t<dt>3</dt>\n",
       "\t\t<dd>110</dd>\n",
       "</dl>\n"
      ],
      "text/latex": [
       "\\begin{description*}\n",
       "\\item[1] 55\n",
       "\\item[2] 98\n",
       "\\item[3] 110\n",
       "\\end{description*}\n"
      ],
      "text/markdown": [
       "1\n",
       ":   552\n",
       ":   983\n",
       ":   110\n",
       "\n"
      ],
      "text/plain": [
       "  1   2   3 \n",
       " 55  98 110 "
      ]
     },
     "metadata": {},
     "output_type": "display_data"
    }
   ],
   "source": [
    "round(nhhi*dailyTripsHHi,0)"
   ]
  }
 ],
 "metadata": {
  "kernelspec": {
   "display_name": "R",
   "language": "R",
   "name": "ir"
  },
  "language_info": {
   "codemirror_mode": "r",
   "file_extension": ".r",
   "mimetype": "text/x-r-source",
   "name": "R",
   "pygments_lexer": "r",
   "version": "3.5.0"
  }
 },
 "nbformat": 4,
 "nbformat_minor": 2
}
