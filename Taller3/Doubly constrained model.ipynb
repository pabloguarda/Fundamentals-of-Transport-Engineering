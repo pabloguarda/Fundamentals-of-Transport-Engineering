{
 "cells": [
  {
   "cell_type": "markdown",
   "metadata": {},
   "source": [
    "# Doubly constrained algorithm"
   ]
  },
  {
   "cell_type": "markdown",
   "metadata": {},
   "source": [
    "## Generated and attracted trips"
   ]
  },
  {
   "cell_type": "code",
   "execution_count": 1,
   "metadata": {},
   "outputs": [
    {
     "data": {
      "text/html": [
       "<ol class=list-inline>\n",
       "\t<li>55449</li>\n",
       "\t<li>98180</li>\n",
       "\t<li>110371</li>\n",
       "</ol>\n"
      ],
      "text/latex": [
       "\\begin{enumerate*}\n",
       "\\item 55449\n",
       "\\item 98180\n",
       "\\item 110371\n",
       "\\end{enumerate*}\n"
      ],
      "text/markdown": [
       "1. 55449\n",
       "2. 98180\n",
       "3. 110371\n",
       "\n",
       "\n"
      ],
      "text/plain": [
       "[1]  55449  98180 110371"
      ]
     },
     "metadata": {},
     "output_type": "display_data"
    }
   ],
   "source": [
    "#om <- c(98,106,122) #Generated trips by zone\n",
    "om <- c(55449,98180,110371);om\n",
    "#om <- c(100,200,250)\n",
    "#om <- c(35155,12000,22647); om <- round(om)"
   ]
  },
  {
   "cell_type": "code",
   "execution_count": 2,
   "metadata": {},
   "outputs": [],
   "source": [
    "#dm <- c(102,118,106) #Attracted trips by zone\n",
    "#dm <- c(220,165,165)\n",
    "dm <- round(rep(1/length(om),length(om)-1)*sum(om)); dm <- c(dm,sum(om)-sum(dm)) #Generated trips are evenly distributed across across zones "
   ]
  },
  {
   "cell_type": "code",
   "execution_count": 3,
   "metadata": {},
   "outputs": [
    {
     "data": {
      "text/html": [
       "3"
      ],
      "text/latex": [
       "3"
      ],
      "text/markdown": [
       "3"
      ],
      "text/plain": [
       "[1] 3"
      ]
     },
     "metadata": {},
     "output_type": "display_data"
    }
   ],
   "source": [
    "nZones <- length(om); nZones #Number of zones"
   ]
  },
  {
   "cell_type": "code",
   "execution_count": 4,
   "metadata": {},
   "outputs": [
    {
     "data": {
      "text/html": [
       "264000"
      ],
      "text/latex": [
       "264000"
      ],
      "text/markdown": [
       "264000"
      ],
      "text/plain": [
       "[1] 264000"
      ]
     },
     "metadata": {},
     "output_type": "display_data"
    }
   ],
   "source": [
    "T <- sum(om); T #Total trips"
   ]
  },
  {
   "cell_type": "markdown",
   "metadata": {},
   "source": [
    "## Cost matrix"
   ]
  },
  {
   "cell_type": "code",
   "execution_count": 5,
   "metadata": {},
   "outputs": [],
   "source": [
    "#cij <- matrix(c(1.0,1.2,1.8,1.2,1.0,1.5,1.8,1.5,1.0),3,3)\n",
    "cij <- matrix(c(1,3,2,3,1,2,3,1,1),3,3)"
   ]
  },
  {
   "cell_type": "code",
   "execution_count": 6,
   "metadata": {},
   "outputs": [
    {
     "data": {
      "text/html": [
       "<table>\n",
       "<tbody>\n",
       "\t<tr><td>1</td><td>3</td><td>3</td></tr>\n",
       "\t<tr><td>3</td><td>1</td><td>1</td></tr>\n",
       "\t<tr><td>2</td><td>2</td><td>1</td></tr>\n",
       "</tbody>\n",
       "</table>\n"
      ],
      "text/latex": [
       "\\begin{tabular}{lll}\n",
       "\t 1 & 3 & 3\\\\\n",
       "\t 3 & 1 & 1\\\\\n",
       "\t 2 & 2 & 1\\\\\n",
       "\\end{tabular}\n"
      ],
      "text/markdown": [
       "\n",
       "| 1 | 3 | 3 | \n",
       "| 3 | 1 | 1 | \n",
       "| 2 | 2 | 1 | \n",
       "\n",
       "\n"
      ],
      "text/plain": [
       "     [,1] [,2] [,3]\n",
       "[1,] 1    3    3   \n",
       "[2,] 3    1    1   \n",
       "[3,] 2    2    1   "
      ]
     },
     "metadata": {},
     "output_type": "display_data"
    }
   ],
   "source": [
    "cij"
   ]
  },
  {
   "cell_type": "markdown",
   "metadata": {},
   "source": [
    "## Impedance function"
   ]
  },
  {
   "cell_type": "code",
   "execution_count": 7,
   "metadata": {},
   "outputs": [],
   "source": [
    "#fcij <- function(c){1/c^2}\n",
    "fcij <- function(c){5*exp(-0.5*c)}"
   ]
  },
  {
   "cell_type": "code",
   "execution_count": 8,
   "metadata": {},
   "outputs": [
    {
     "data": {
      "text/html": [
       "<table>\n",
       "<tbody>\n",
       "\t<tr><td>3.032653</td><td>1.115651</td><td>1.115651</td></tr>\n",
       "\t<tr><td>1.115651</td><td>3.032653</td><td>3.032653</td></tr>\n",
       "\t<tr><td>1.839397</td><td>1.839397</td><td>3.032653</td></tr>\n",
       "</tbody>\n",
       "</table>\n"
      ],
      "text/latex": [
       "\\begin{tabular}{lll}\n",
       "\t 3.032653 & 1.115651 & 1.115651\\\\\n",
       "\t 1.115651 & 3.032653 & 3.032653\\\\\n",
       "\t 1.839397 & 1.839397 & 3.032653\\\\\n",
       "\\end{tabular}\n"
      ],
      "text/markdown": [
       "\n",
       "| 3.032653 | 1.115651 | 1.115651 | \n",
       "| 1.115651 | 3.032653 | 3.032653 | \n",
       "| 1.839397 | 1.839397 | 3.032653 | \n",
       "\n",
       "\n"
      ],
      "text/plain": [
       "     [,1]     [,2]     [,3]    \n",
       "[1,] 3.032653 1.115651 1.115651\n",
       "[2,] 1.115651 3.032653 3.032653\n",
       "[3,] 1.839397 1.839397 3.032653"
      ]
     },
     "metadata": {},
     "output_type": "display_data"
    }
   ],
   "source": [
    "fcij(cij)"
   ]
  },
  {
   "cell_type": "markdown",
   "metadata": {},
   "source": [
    "## Balancing factors"
   ]
  },
  {
   "cell_type": "code",
   "execution_count": 9,
   "metadata": {},
   "outputs": [],
   "source": [
    "ai <- function(bj,dj,fcij,cij){\n",
    "    \n",
    "    nZones <- length(bj)\n",
    "    ai <- c(rep(NA,nZones))\n",
    "       \n",
    "     for(i in 1:nZones){\n",
    "        sum <- 0\n",
    "       \n",
    "        for(j in 1:nZones){\n",
    "           sum  <- sum + bj[j]*dj[j]*fcij(cij)[i,j]\n",
    "        }\n",
    "        ai[i] <- 1/sum     \n",
    "    }\n",
    "    \n",
    "    return(ai)\n",
    "}"
   ]
  },
  {
   "cell_type": "code",
   "execution_count": 10,
   "metadata": {},
   "outputs": [],
   "source": [
    "bj <- function(ai,oi,fcij,cij){\n",
    "    \n",
    "    nZones <- length(ai)\n",
    "    bj <- c(rep(NA,nZones))\n",
    "       \n",
    "     for(i in 1:nZones){\n",
    "        sum <- 0\n",
    "       \n",
    "        for(j in 1:nZones){\n",
    "           sum  <- sum + ai[j]*oi[j]*fcij(cij)[j,i]\n",
    "        }\n",
    "        bj[i] <- 1/sum       \n",
    "    }\n",
    "    \n",
    "    return(bj)\n",
    "}"
   ]
  },
  {
   "cell_type": "markdown",
   "metadata": {},
   "source": [
    "## OD Matrix"
   ]
  },
  {
   "cell_type": "code",
   "execution_count": 11,
   "metadata": {},
   "outputs": [],
   "source": [
    "ODMatrix <- function(ai,bj,oi,dj,fcij,cij){\n",
    "    \n",
    "    nZones <- length(ai)\n",
    "    odmatrix <- diag(nZones)*0\n",
    "    \n",
    "    for(i in 1:nZones){\n",
    "        for(j in 1:nZones){\n",
    "           odmatrix[i,j] <- ai[i]*bj[j]*oi[i]*dj[j]*fcij(cij)[i,j]\n",
    "        }     \n",
    "    }\n",
    "    \n",
    "    return(odmatrix)\n",
    "    \n",
    "}\n",
    "\n",
    "# Compute the number of generated trips by zone\n",
    "\n",
    "on <- function(odm){\n",
    "    \n",
    "    return(rowSums(odm))\n",
    "}\n",
    "\n",
    "\n",
    "# Compute the number of attracted trips by zone\n",
    "\n",
    "\n",
    "dn <- function(odm){\n",
    "    \n",
    "    return(colSums(odm))\n",
    "}\n"
   ]
  },
  {
   "cell_type": "markdown",
   "metadata": {},
   "source": [
    "## Function for entropy calculation"
   ]
  },
  {
   "cell_type": "code",
   "execution_count": 12,
   "metadata": {},
   "outputs": [],
   "source": [
    "entropyCalculation <- function(m){\n",
    "    \n",
    "    #total trips in matrix\n",
    "    trips_m <- sum(m)\n",
    "    numerator <- factorial(trips_m)\n",
    "    \n",
    "    \n",
    "    denominator <- 1\n",
    "    \n",
    "    for(i in 1:dim(m)[1]){\n",
    "        \n",
    "        for(j in 1:dim(m)[2]){\n",
    "    \n",
    "            denominator <- denominator*factorial(m[i,j])    \n",
    "            \n",
    "\n",
    "        }\n",
    "    }\n",
    "    \n",
    "    entropym <- numerator/denominator\n",
    "    \n",
    "    return(entropym)\n",
    "    \n",
    "}"
   ]
  },
  {
   "cell_type": "code",
   "execution_count": null,
   "metadata": {},
   "outputs": [],
   "source": []
  },
  {
   "cell_type": "markdown",
   "metadata": {},
   "source": [
    "## General algorithm for n iterations"
   ]
  },
  {
   "cell_type": "code",
   "execution_count": 13,
   "metadata": {},
   "outputs": [],
   "source": [
    "doublyConstrainedAlgorithm <- function(om,dm,cij,fcij,nIterations){\n",
    "\n",
    "    nZones <- length(om) #Number of zones\n",
    "    \n",
    "    an <- c(rep(NA,nZones))\n",
    "    bn <- c(rep(NA,nZones))\n",
    "    ODn <- diag(nZones)*0\n",
    "    \n",
    "    an1 <- an\n",
    "    bn1 <- bn\n",
    "    ODn1 <- ODn\n",
    "    \n",
    "    \n",
    "    for(i in 1:nIterations){\n",
    "        \n",
    "        if(i==1){\n",
    "            an <- ai(bj = c(rep(1,nZones)),dj = dm,fcij = fcij, cij = cij)\n",
    "            bn <- bj(ai = an,oi = om,fcij = fcij, cij = cij)\n",
    "            ODn <- ODMatrix(ai=an,bj=bn,oi=om,dj=dm,fcij=fcij,cij=cij)\n",
    "            \n",
    "        }\n",
    "        \n",
    "        else{\n",
    "            \n",
    "            an1 <- ai(bj = bn,dj = d1,fcij = fcij, cij = cij)\n",
    "            bn1 <- bj(ai = an1,oi = om,fcij = fcij, cij = cij)\n",
    "            ODn1 <- ODMatrix(ai=an1,bj=bn1,oi=om,dj=dm,fcij=fcij,cij=cij)\n",
    "            \n",
    "            error <- sum(abs(ODn1-ODn))\n",
    "            \n",
    "            an <- an1\n",
    "            bn <- bn1\n",
    "            ODn <- ODn1\n",
    "            \n",
    "        }\n",
    "        \n",
    "        \n",
    "    }\n",
    "    \n",
    "#    return(list(ODMatrix=ODn,oi=on(ODn),dj=dn(ODn),entropy = entropyCalculation(ODn)))\n",
    "        return(list(ODMatrix=ODn,oi=on(ODn),dj=dn(ODn),cij = cij,C = sum(fcij(cij)*ODn),error = error))\n",
    "    \n",
    "}"
   ]
  },
  {
   "cell_type": "code",
   "execution_count": null,
   "metadata": {},
   "outputs": [],
   "source": []
  },
  {
   "cell_type": "markdown",
   "metadata": {},
   "source": [
    "## Iterations"
   ]
  },
  {
   "cell_type": "markdown",
   "metadata": {},
   "source": [
    "### Iteration 0"
   ]
  },
  {
   "cell_type": "markdown",
   "metadata": {},
   "source": [
    "#### Balancing factors"
   ]
  },
  {
   "cell_type": "code",
   "execution_count": 14,
   "metadata": {},
   "outputs": [
    {
     "data": {
      "text/html": [
       "<ol class=list-inline>\n",
       "\t<li>1</li>\n",
       "\t<li>1</li>\n",
       "\t<li>1</li>\n",
       "</ol>\n"
      ],
      "text/latex": [
       "\\begin{enumerate*}\n",
       "\\item 1\n",
       "\\item 1\n",
       "\\item 1\n",
       "\\end{enumerate*}\n"
      ],
      "text/markdown": [
       "1. 1\n",
       "2. 1\n",
       "3. 1\n",
       "\n",
       "\n"
      ],
      "text/plain": [
       "[1] 1 1 1"
      ]
     },
     "metadata": {},
     "output_type": "display_data"
    }
   ],
   "source": [
    "a0 <- c(rep(1,nZones)); a0"
   ]
  },
  {
   "cell_type": "code",
   "execution_count": 15,
   "metadata": {},
   "outputs": [
    {
     "data": {
      "text/html": [
       "<ol class=list-inline>\n",
       "\t<li>1</li>\n",
       "\t<li>1</li>\n",
       "\t<li>1</li>\n",
       "</ol>\n"
      ],
      "text/latex": [
       "\\begin{enumerate*}\n",
       "\\item 1\n",
       "\\item 1\n",
       "\\item 1\n",
       "\\end{enumerate*}\n"
      ],
      "text/markdown": [
       "1. 1\n",
       "2. 1\n",
       "3. 1\n",
       "\n",
       "\n"
      ],
      "text/plain": [
       "[1] 1 1 1"
      ]
     },
     "metadata": {},
     "output_type": "display_data"
    }
   ],
   "source": [
    "b0 <- c(rep(1,nZones)); b0"
   ]
  },
  {
   "cell_type": "markdown",
   "metadata": {},
   "source": [
    "### Iteration 1"
   ]
  },
  {
   "cell_type": "markdown",
   "metadata": {},
   "source": [
    "#### Balancing factors"
   ]
  },
  {
   "cell_type": "code",
   "execution_count": 16,
   "metadata": {},
   "outputs": [
    {
     "data": {
      "text/html": [
       "<ol class=list-inline>\n",
       "\t<li>2.15876400527936e-06</li>\n",
       "\t<li>1.58246814930408e-06</li>\n",
       "\t<li>1.69317215214754e-06</li>\n",
       "</ol>\n"
      ],
      "text/latex": [
       "\\begin{enumerate*}\n",
       "\\item 2.15876400527936e-06\n",
       "\\item 1.58246814930408e-06\n",
       "\\item 1.69317215214754e-06\n",
       "\\end{enumerate*}\n"
      ],
      "text/markdown": [
       "1. 2.15876400527936e-06\n",
       "2. 1.58246814930408e-06\n",
       "3. 1.69317215214754e-06\n",
       "\n",
       "\n"
      ],
      "text/plain": [
       "[1] 2.158764e-06 1.582468e-06 1.693172e-06"
      ]
     },
     "metadata": {},
     "output_type": "display_data"
    }
   ],
   "source": [
    "a1 <- ai(bj = c(rep(1,nZones)),dj = dm,fcij = fcij, cij = cij); a1"
   ]
  },
  {
   "cell_type": "code",
   "execution_count": 17,
   "metadata": {},
   "outputs": [
    {
     "data": {
      "text/html": [
       "<ol class=list-inline>\n",
       "\t<li>1.13624899211063</li>\n",
       "\t<li>1.05434129431246</li>\n",
       "\t<li>0.853641663057962</li>\n",
       "</ol>\n"
      ],
      "text/latex": [
       "\\begin{enumerate*}\n",
       "\\item 1.13624899211063\n",
       "\\item 1.05434129431246\n",
       "\\item 0.853641663057962\n",
       "\\end{enumerate*}\n"
      ],
      "text/markdown": [
       "1. 1.13624899211063\n",
       "2. 1.05434129431246\n",
       "3. 0.853641663057962\n",
       "\n",
       "\n"
      ],
      "text/plain": [
       "[1] 1.1362490 1.0543413 0.8536417"
      ]
     },
     "metadata": {},
     "output_type": "display_data"
    }
   ],
   "source": [
    "b1 <- bj(ai = a1,oi = om,fcij = fcij, cij = cij); b1"
   ]
  },
  {
   "cell_type": "markdown",
   "metadata": {},
   "source": [
    "#### OD Matrix"
   ]
  },
  {
   "cell_type": "code",
   "execution_count": 18,
   "metadata": {},
   "outputs": [
    {
     "data": {
      "text/html": [
       "<table>\n",
       "<tbody>\n",
       "\t<tr><td>36297.59</td><td>12390.56</td><td>10031.95</td></tr>\n",
       "\t<tr><td>17331.75</td><td>43716.43</td><td>35394.77</td></tr>\n",
       "\t<tr><td>34370.65</td><td>31893.01</td><td>42573.28</td></tr>\n",
       "</tbody>\n",
       "</table>\n"
      ],
      "text/latex": [
       "\\begin{tabular}{lll}\n",
       "\t 36297.59 & 12390.56 & 10031.95\\\\\n",
       "\t 17331.75 & 43716.43 & 35394.77\\\\\n",
       "\t 34370.65 & 31893.01 & 42573.28\\\\\n",
       "\\end{tabular}\n"
      ],
      "text/markdown": [
       "\n",
       "| 36297.59 | 12390.56 | 10031.95 | \n",
       "| 17331.75 | 43716.43 | 35394.77 | \n",
       "| 34370.65 | 31893.01 | 42573.28 | \n",
       "\n",
       "\n"
      ],
      "text/plain": [
       "     [,1]     [,2]     [,3]    \n",
       "[1,] 36297.59 12390.56 10031.95\n",
       "[2,] 17331.75 43716.43 35394.77\n",
       "[3,] 34370.65 31893.01 42573.28"
      ]
     },
     "metadata": {},
     "output_type": "display_data"
    }
   ],
   "source": [
    "OD1 <- ODMatrix(ai=a1,bj=b1,oi=om,dj=dm,fcij=fcij,cij=cij); OD1"
   ]
  },
  {
   "cell_type": "markdown",
   "metadata": {},
   "source": [
    "#### Attracted and generated trips by zone"
   ]
  },
  {
   "cell_type": "code",
   "execution_count": 19,
   "metadata": {},
   "outputs": [
    {
     "data": {
      "text/html": [
       "<ol class=list-inline>\n",
       "\t<li>58720.1089311625</li>\n",
       "\t<li>96442.9448545086</li>\n",
       "\t<li>108836.946214329</li>\n",
       "</ol>\n"
      ],
      "text/latex": [
       "\\begin{enumerate*}\n",
       "\\item 58720.1089311625\n",
       "\\item 96442.9448545086\n",
       "\\item 108836.946214329\n",
       "\\end{enumerate*}\n"
      ],
      "text/markdown": [
       "1. 58720.1089311625\n",
       "2. 96442.9448545086\n",
       "3. 108836.946214329\n",
       "\n",
       "\n"
      ],
      "text/plain": [
       "[1]  58720.11  96442.94 108836.95"
      ]
     },
     "metadata": {},
     "output_type": "display_data"
    }
   ],
   "source": [
    "o1 <- on(OD1); o1"
   ]
  },
  {
   "cell_type": "code",
   "execution_count": 20,
   "metadata": {},
   "outputs": [
    {
     "data": {
      "text/html": [
       "<ol class=list-inline>\n",
       "\t<li>88000</li>\n",
       "\t<li>88000</li>\n",
       "\t<li>88000</li>\n",
       "</ol>\n"
      ],
      "text/latex": [
       "\\begin{enumerate*}\n",
       "\\item 88000\n",
       "\\item 88000\n",
       "\\item 88000\n",
       "\\end{enumerate*}\n"
      ],
      "text/markdown": [
       "1. 88000\n",
       "2. 88000\n",
       "3. 88000\n",
       "\n",
       "\n"
      ],
      "text/plain": [
       "[1] 88000 88000 88000"
      ]
     },
     "metadata": {},
     "output_type": "display_data"
    }
   ],
   "source": [
    "d1 <- dn(OD1); d1"
   ]
  },
  {
   "cell_type": "markdown",
   "metadata": {},
   "source": [
    "### Iteration 2"
   ]
  },
  {
   "cell_type": "code",
   "execution_count": 21,
   "metadata": {},
   "outputs": [
    {
     "data": {
      "text/html": [
       "<ol class=list-inline>\n",
       "\t<li>2.03850618651033e-06</li>\n",
       "\t<li>1.6109703320762e-06</li>\n",
       "\t<li>1.7170373674089e-06</li>\n",
       "</ol>\n"
      ],
      "text/latex": [
       "\\begin{enumerate*}\n",
       "\\item 2.03850618651033e-06\n",
       "\\item 1.6109703320762e-06\n",
       "\\item 1.7170373674089e-06\n",
       "\\end{enumerate*}\n"
      ],
      "text/markdown": [
       "1. 2.03850618651033e-06\n",
       "2. 1.6109703320762e-06\n",
       "3. 1.7170373674089e-06\n",
       "\n",
       "\n"
      ],
      "text/plain": [
       "[1] 2.038506e-06 1.610970e-06 1.717037e-06"
      ]
     },
     "metadata": {},
     "output_type": "display_data"
    }
   ],
   "source": [
    "a2 <- ai(bj = b1,dj = dm,fcij = fcij, cij = cij); a2"
   ]
  },
  {
   "cell_type": "code",
   "execution_count": 22,
   "metadata": {},
   "outputs": [
    {
     "data": {
      "text/html": [
       "<ol class=list-inline>\n",
       "\t<li>1.15229473652959</li>\n",
       "\t<li>1.04783189165489</li>\n",
       "\t<li>0.847108107704649</li>\n",
       "</ol>\n"
      ],
      "text/latex": [
       "\\begin{enumerate*}\n",
       "\\item 1.15229473652959\n",
       "\\item 1.04783189165489\n",
       "\\item 0.847108107704649\n",
       "\\end{enumerate*}\n"
      ],
      "text/markdown": [
       "1. 1.15229473652959\n",
       "2. 1.04783189165489\n",
       "3. 0.847108107704649\n",
       "\n",
       "\n"
      ],
      "text/plain": [
       "[1] 1.1522947 1.0478319 0.8471081"
      ]
     },
     "metadata": {},
     "output_type": "display_data"
    }
   ],
   "source": [
    "b2 <- bj(ai = a2,oi = om,fcij = fcij, cij = cij); b2"
   ]
  },
  {
   "cell_type": "code",
   "execution_count": 23,
   "metadata": {},
   "outputs": [
    {
     "data": {
      "text/html": [
       "<table>\n",
       "<tbody>\n",
       "\t<tr><td>34759.60 </td><td>11628.09 </td><td> 9400.599</td></tr>\n",
       "\t<tr><td>17893.08 </td><td>44229.05 </td><td>35756.487</td></tr>\n",
       "\t<tr><td>35347.32 </td><td>32142.86 </td><td>42842.914</td></tr>\n",
       "</tbody>\n",
       "</table>\n"
      ],
      "text/latex": [
       "\\begin{tabular}{lll}\n",
       "\t 34759.60  & 11628.09  &  9400.599\\\\\n",
       "\t 17893.08  & 44229.05  & 35756.487\\\\\n",
       "\t 35347.32  & 32142.86  & 42842.914\\\\\n",
       "\\end{tabular}\n"
      ],
      "text/markdown": [
       "\n",
       "| 34759.60  | 11628.09  |  9400.599 | \n",
       "| 17893.08  | 44229.05  | 35756.487 | \n",
       "| 35347.32  | 32142.86  | 42842.914 | \n",
       "\n",
       "\n"
      ],
      "text/plain": [
       "     [,1]     [,2]     [,3]     \n",
       "[1,] 34759.60 11628.09  9400.599\n",
       "[2,] 17893.08 44229.05 35756.487\n",
       "[3,] 35347.32 32142.86 42842.914"
      ]
     },
     "metadata": {},
     "output_type": "display_data"
    }
   ],
   "source": [
    "OD2 <- ODMatrix(ai=a2,bj=b2,oi=om,dj=dm,fcij=fcij,cij=cij); OD2"
   ]
  },
  {
   "cell_type": "code",
   "execution_count": 24,
   "metadata": {},
   "outputs": [
    {
     "data": {
      "text/html": [
       "<ol class=list-inline>\n",
       "\t<li>55788.2872271551</li>\n",
       "\t<li>97878.6176762702</li>\n",
       "\t<li>110333.095096575</li>\n",
       "</ol>\n"
      ],
      "text/latex": [
       "\\begin{enumerate*}\n",
       "\\item 55788.2872271551\n",
       "\\item 97878.6176762702\n",
       "\\item 110333.095096575\n",
       "\\end{enumerate*}\n"
      ],
      "text/markdown": [
       "1. 55788.2872271551\n",
       "2. 97878.6176762702\n",
       "3. 110333.095096575\n",
       "\n",
       "\n"
      ],
      "text/plain": [
       "[1]  55788.29  97878.62 110333.10"
      ]
     },
     "metadata": {},
     "output_type": "display_data"
    }
   ],
   "source": [
    "o2 <- on(OD2); o2"
   ]
  },
  {
   "cell_type": "code",
   "execution_count": 25,
   "metadata": {},
   "outputs": [
    {
     "data": {
      "text/html": [
       "<ol class=list-inline>\n",
       "\t<li>88000</li>\n",
       "\t<li>88000</li>\n",
       "\t<li>88000</li>\n",
       "</ol>\n"
      ],
      "text/latex": [
       "\\begin{enumerate*}\n",
       "\\item 88000\n",
       "\\item 88000\n",
       "\\item 88000\n",
       "\\end{enumerate*}\n"
      ],
      "text/markdown": [
       "1. 88000\n",
       "2. 88000\n",
       "3. 88000\n",
       "\n",
       "\n"
      ],
      "text/plain": [
       "[1] 88000 88000 88000"
      ]
     },
     "metadata": {},
     "output_type": "display_data"
    }
   ],
   "source": [
    "d2 <- dn(OD2); d2"
   ]
  },
  {
   "cell_type": "markdown",
   "metadata": {},
   "source": [
    "### Iteration (N=10)"
   ]
  },
  {
   "cell_type": "code",
   "execution_count": 26,
   "metadata": {},
   "outputs": [
    {
     "data": {
      "text/html": [
       "<dl>\n",
       "\t<dt>$ODMatrix</dt>\n",
       "\t\t<dd><table>\n",
       "<tbody>\n",
       "\t<tr><td>34584.59 </td><td>11536.68 </td><td> 9327.795</td></tr>\n",
       "\t<tr><td>17989.16 </td><td>44340.21 </td><td>35850.572</td></tr>\n",
       "\t<tr><td>35426.25 </td><td>32123.11 </td><td>42821.632</td></tr>\n",
       "</tbody>\n",
       "</table>\n",
       "</dd>\n",
       "\t<dt>$oi</dt>\n",
       "\t\t<dd><ol class=list-inline>\n",
       "\t<li>55449.0646257714</li>\n",
       "\t<li>98179.9397273366</li>\n",
       "\t<li>110370.995646892</li>\n",
       "</ol>\n",
       "</dd>\n",
       "\t<dt>$dj</dt>\n",
       "\t\t<dd><ol class=list-inline>\n",
       "\t<li>88000</li>\n",
       "\t<li>88000</li>\n",
       "\t<li>88000</li>\n",
       "</ol>\n",
       "</dd>\n",
       "\t<dt>$cij</dt>\n",
       "\t\t<dd><table>\n",
       "<tbody>\n",
       "\t<tr><td>1</td><td>3</td><td>3</td></tr>\n",
       "\t<tr><td>3</td><td>1</td><td>1</td></tr>\n",
       "\t<tr><td>2</td><td>2</td><td>1</td></tr>\n",
       "</tbody>\n",
       "</table>\n",
       "</dd>\n",
       "\t<dt>$C</dt>\n",
       "\t\t<dd>645534.281162175</dd>\n",
       "\t<dt>$error</dt>\n",
       "\t\t<dd>1.11567535110407</dd>\n",
       "</dl>\n"
      ],
      "text/latex": [
       "\\begin{description}\n",
       "\\item[\\$ODMatrix] \\begin{tabular}{lll}\n",
       "\t 34584.59  & 11536.68  &  9327.795\\\\\n",
       "\t 17989.16  & 44340.21  & 35850.572\\\\\n",
       "\t 35426.25  & 32123.11  & 42821.632\\\\\n",
       "\\end{tabular}\n",
       "\n",
       "\\item[\\$oi] \\begin{enumerate*}\n",
       "\\item 55449.0646257714\n",
       "\\item 98179.9397273366\n",
       "\\item 110370.995646892\n",
       "\\end{enumerate*}\n",
       "\n",
       "\\item[\\$dj] \\begin{enumerate*}\n",
       "\\item 88000\n",
       "\\item 88000\n",
       "\\item 88000\n",
       "\\end{enumerate*}\n",
       "\n",
       "\\item[\\$cij] \\begin{tabular}{lll}\n",
       "\t 1 & 3 & 3\\\\\n",
       "\t 3 & 1 & 1\\\\\n",
       "\t 2 & 2 & 1\\\\\n",
       "\\end{tabular}\n",
       "\n",
       "\\item[\\$C] 645534.281162175\n",
       "\\item[\\$error] 1.11567535110407\n",
       "\\end{description}\n"
      ],
      "text/markdown": [
       "$ODMatrix\n",
       ":   \n",
       "| 34584.59  | 11536.68  |  9327.795 | \n",
       "| 17989.16  | 44340.21  | 35850.572 | \n",
       "| 35426.25  | 32123.11  | 42821.632 | \n",
       "\n",
       "\n",
       "\n",
       "$oi\n",
       ":   1. 55449.0646257714\n",
       "2. 98179.9397273366\n",
       "3. 110370.995646892\n",
       "\n",
       "\n",
       "\n",
       "$dj\n",
       ":   1. 88000\n",
       "2. 88000\n",
       "3. 88000\n",
       "\n",
       "\n",
       "\n",
       "$cij\n",
       ":   \n",
       "| 1 | 3 | 3 | \n",
       "| 3 | 1 | 1 | \n",
       "| 2 | 2 | 1 | \n",
       "\n",
       "\n",
       "\n",
       "$C\n",
       ":   645534.281162175\n",
       "$error\n",
       ":   1.11567535110407\n",
       "\n",
       "\n"
      ],
      "text/plain": [
       "$ODMatrix\n",
       "         [,1]     [,2]      [,3]\n",
       "[1,] 34584.59 11536.68  9327.795\n",
       "[2,] 17989.16 44340.21 35850.572\n",
       "[3,] 35426.25 32123.11 42821.632\n",
       "\n",
       "$oi\n",
       "[1]  55449.06  98179.94 110371.00\n",
       "\n",
       "$dj\n",
       "[1] 88000 88000 88000\n",
       "\n",
       "$cij\n",
       "     [,1] [,2] [,3]\n",
       "[1,]    1    3    3\n",
       "[2,]    3    1    1\n",
       "[3,]    2    2    1\n",
       "\n",
       "$C\n",
       "[1] 645534.3\n",
       "\n",
       "$error\n",
       "[1] 1.115675\n"
      ]
     },
     "metadata": {},
     "output_type": "display_data"
    }
   ],
   "source": [
    "N=6\n",
    "doublyConstrainedAlgorithm(om=om,dm=dm,cij=cij,fcij=fcij,nIterations=N)"
   ]
  },
  {
   "cell_type": "markdown",
   "metadata": {},
   "source": [
    "### Analysis of convergency"
   ]
  },
  {
   "cell_type": "code",
   "execution_count": 27,
   "metadata": {},
   "outputs": [],
   "source": [
    "nConvergency <- 10 #iterations\n",
    "\n",
    "#Compute error from the second iterations until de nth iteration\n",
    "convergency <- data.frame(iteration=2:nConvergency, error = sapply(2:nConvergency,function(i) doublyConstrainedAlgorithm(om=om,dm=dm,cij=cij,fcij=fcij,nIterations=i)$error))\n",
    "convergency$error <- round(convergency$error,4)                                                        "
   ]
  },
  {
   "cell_type": "markdown",
   "metadata": {},
   "source": [
    "### Plot"
   ]
  },
  {
   "cell_type": "code",
   "execution_count": 28,
   "metadata": {},
   "outputs": [
    {
     "data": {
      "text/html": [
       "<table>\n",
       "<thead><tr><th scope=col>iteration</th><th scope=col>error</th></tr></thead>\n",
       "<tbody>\n",
       "\t<tr><td> 2       </td><td>5863.6434</td></tr>\n",
       "\t<tr><td> 3       </td><td> 669.8119</td></tr>\n",
       "\t<tr><td> 4       </td><td>  80.1140</td></tr>\n",
       "\t<tr><td> 5       </td><td>   9.4600</td></tr>\n",
       "\t<tr><td> 6       </td><td>   1.1157</td></tr>\n",
       "\t<tr><td> 7       </td><td>   0.1316</td></tr>\n",
       "\t<tr><td> 8       </td><td>   0.0155</td></tr>\n",
       "\t<tr><td> 9       </td><td>   0.0018</td></tr>\n",
       "\t<tr><td>10       </td><td>   0.0002</td></tr>\n",
       "</tbody>\n",
       "</table>\n"
      ],
      "text/latex": [
       "\\begin{tabular}{r|ll}\n",
       " iteration & error\\\\\n",
       "\\hline\n",
       "\t  2        & 5863.6434\\\\\n",
       "\t  3        &  669.8119\\\\\n",
       "\t  4        &   80.1140\\\\\n",
       "\t  5        &    9.4600\\\\\n",
       "\t  6        &    1.1157\\\\\n",
       "\t  7        &    0.1316\\\\\n",
       "\t  8        &    0.0155\\\\\n",
       "\t  9        &    0.0018\\\\\n",
       "\t 10        &    0.0002\\\\\n",
       "\\end{tabular}\n"
      ],
      "text/markdown": [
       "\n",
       "iteration | error | \n",
       "|---|---|---|---|---|---|---|---|---|\n",
       "|  2        | 5863.6434 | \n",
       "|  3        |  669.8119 | \n",
       "|  4        |   80.1140 | \n",
       "|  5        |    9.4600 | \n",
       "|  6        |    1.1157 | \n",
       "|  7        |    0.1316 | \n",
       "|  8        |    0.0155 | \n",
       "|  9        |    0.0018 | \n",
       "| 10        |    0.0002 | \n",
       "\n",
       "\n"
      ],
      "text/plain": [
       "  iteration error    \n",
       "1  2        5863.6434\n",
       "2  3         669.8119\n",
       "3  4          80.1140\n",
       "4  5           9.4600\n",
       "5  6           1.1157\n",
       "6  7           0.1316\n",
       "7  8           0.0155\n",
       "8  9           0.0018\n",
       "9 10           0.0002"
      ]
     },
     "metadata": {},
     "output_type": "display_data"
    },
    {
     "data": {
      "image/png": "[encoded data removed]",
      "text/plain": [
       "plot without title"
      ]
     },
     "metadata": {},
     "output_type": "display_data"
    }
   ],
   "source": [
    "plot(convergency, type=\"l\")\n",
    "convergency"
   ]
  }
 ],
 "metadata": {
  "kernelspec": {
   "display_name": "R",
   "language": "R",
   "name": "ir"
  },
  "language_info": {
   "codemirror_mode": "r",
   "file_extension": ".r",
   "mimetype": "text/x-r-source",
   "name": "R",
   "pygments_lexer": "r",
   "version": "3.5.0"
  }
 },
 "nbformat": 4,
 "nbformat_minor": 2
}
