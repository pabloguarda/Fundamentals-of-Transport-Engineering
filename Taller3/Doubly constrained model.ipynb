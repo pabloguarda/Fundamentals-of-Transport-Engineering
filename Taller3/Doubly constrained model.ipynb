{
 "cells": [
  {
   "cell_type": "markdown",
   "metadata": {},
   "source": [
    "# Doubly constrained algorithm"
   ]
  },
  {
   "cell_type": "markdown",
   "metadata": {},
   "source": [
    "## Attracted and generated trips"
   ]
  },
  {
   "cell_type": "code",
   "execution_count": 1,
   "metadata": {},
   "outputs": [],
   "source": [
    "#om <- c(98,106,122) #Generated trips by zone\n",
    "om <- c(100,200,250)\n",
    "#om <- c(35155,12000,22647); om <- round(om)"
   ]
  },
  {
   "cell_type": "code",
   "execution_count": 2,
   "metadata": {},
   "outputs": [],
   "source": [
    "#dm <- c(102,118,106) #Attracted trips by zone\n",
    "dm <- c(220,165,165)\n",
    "#dm <- round(rep(1/length(om),length(om)-1)*sum(om)); dm <- c(dm,sum(om)-sum(dm))"
   ]
  },
  {
   "cell_type": "code",
   "execution_count": 3,
   "metadata": {},
   "outputs": [],
   "source": [
    "nZones <- length(om) #Number of zones"
   ]
  },
  {
   "cell_type": "code",
   "execution_count": 4,
   "metadata": {},
   "outputs": [],
   "source": [
    "T <- sum(om) #Total trips"
   ]
  },
  {
   "cell_type": "markdown",
   "metadata": {},
   "source": [
    "## Cost matrix"
   ]
  },
  {
   "cell_type": "code",
   "execution_count": 5,
   "metadata": {},
   "outputs": [],
   "source": [
    "#cij <- matrix(c(1.0,1.2,1.8,1.2,1.0,1.5,1.8,1.5,1.0),3,3)\n",
    "cij <- matrix(c(1,3,2,3,1,2,3,1,1),3,3)"
   ]
  },
  {
   "cell_type": "code",
   "execution_count": 6,
   "metadata": {},
   "outputs": [
    {
     "data": {
      "text/html": [
       "<table>\n",
       "<tbody>\n",
       "\t<tr><td>1</td><td>3</td><td>3</td></tr>\n",
       "\t<tr><td>3</td><td>1</td><td>1</td></tr>\n",
       "\t<tr><td>2</td><td>2</td><td>1</td></tr>\n",
       "</tbody>\n",
       "</table>\n"
      ],
      "text/latex": [
       "\\begin{tabular}{lll}\n",
       "\t 1 & 3 & 3\\\\\n",
       "\t 3 & 1 & 1\\\\\n",
       "\t 2 & 2 & 1\\\\\n",
       "\\end{tabular}\n"
      ],
      "text/markdown": [
       "\n",
       "| 1 | 3 | 3 | \n",
       "| 3 | 1 | 1 | \n",
       "| 2 | 2 | 1 | \n",
       "\n",
       "\n"
      ],
      "text/plain": [
       "     [,1] [,2] [,3]\n",
       "[1,] 1    3    3   \n",
       "[2,] 3    1    1   \n",
       "[3,] 2    2    1   "
      ]
     },
     "metadata": {},
     "output_type": "display_data"
    }
   ],
   "source": [
    "cij"
   ]
  },
  {
   "cell_type": "markdown",
   "metadata": {},
   "source": [
    "## Impedance function"
   ]
  },
  {
   "cell_type": "code",
   "execution_count": 7,
   "metadata": {},
   "outputs": [],
   "source": [
    "#fcij <- function(c){1/c^2}\n",
    "fcij <- function(c){5*exp(-0.5*c)}"
   ]
  },
  {
   "cell_type": "code",
   "execution_count": 8,
   "metadata": {},
   "outputs": [
    {
     "data": {
      "text/html": [
       "<table>\n",
       "<tbody>\n",
       "\t<tr><td>3.032653</td><td>1.115651</td><td>1.115651</td></tr>\n",
       "\t<tr><td>1.115651</td><td>3.032653</td><td>3.032653</td></tr>\n",
       "\t<tr><td>1.839397</td><td>1.839397</td><td>3.032653</td></tr>\n",
       "</tbody>\n",
       "</table>\n"
      ],
      "text/latex": [
       "\\begin{tabular}{lll}\n",
       "\t 3.032653 & 1.115651 & 1.115651\\\\\n",
       "\t 1.115651 & 3.032653 & 3.032653\\\\\n",
       "\t 1.839397 & 1.839397 & 3.032653\\\\\n",
       "\\end{tabular}\n"
      ],
      "text/markdown": [
       "\n",
       "| 3.032653 | 1.115651 | 1.115651 | \n",
       "| 1.115651 | 3.032653 | 3.032653 | \n",
       "| 1.839397 | 1.839397 | 3.032653 | \n",
       "\n",
       "\n"
      ],
      "text/plain": [
       "     [,1]     [,2]     [,3]    \n",
       "[1,] 3.032653 1.115651 1.115651\n",
       "[2,] 1.115651 3.032653 3.032653\n",
       "[3,] 1.839397 1.839397 3.032653"
      ]
     },
     "metadata": {},
     "output_type": "display_data"
    }
   ],
   "source": [
    "fcij(cij)"
   ]
  },
  {
   "cell_type": "markdown",
   "metadata": {},
   "source": [
    "## Balancing factors"
   ]
  },
  {
   "cell_type": "code",
   "execution_count": 9,
   "metadata": {},
   "outputs": [],
   "source": [
    "ai <- function(bj,dj,fcij,cij){\n",
    "    \n",
    "    nZones <- length(bj)\n",
    "    ai <- c(rep(NA,nZones))\n",
    "       \n",
    "     for(i in 1:nZones){\n",
    "        sum <- 0\n",
    "       \n",
    "        for(j in 1:nZones){\n",
    "           sum  <- sum + bj[j]*dj[j]*fcij(cij)[i,j]\n",
    "        }\n",
    "        ai[i] <- 1/sum     \n",
    "    }\n",
    "    \n",
    "    return(ai)\n",
    "}"
   ]
  },
  {
   "cell_type": "code",
   "execution_count": 10,
   "metadata": {},
   "outputs": [],
   "source": [
    "bj <- function(ai,oi,fcij,cij){\n",
    "    \n",
    "    nZones <- length(ai)\n",
    "    bj <- c(rep(NA,nZones))\n",
    "       \n",
    "     for(i in 1:nZones){\n",
    "        sum <- 0\n",
    "       \n",
    "        for(j in 1:nZones){\n",
    "           sum  <- sum + ai[j]*oi[j]*fcij(cij)[j,i]\n",
    "        }\n",
    "        bj[i] <- 1/sum       \n",
    "    }\n",
    "    \n",
    "    return(bj)\n",
    "}"
   ]
  },
  {
   "cell_type": "markdown",
   "metadata": {},
   "source": [
    "## OD Matrix"
   ]
  },
  {
   "cell_type": "code",
   "execution_count": 11,
   "metadata": {},
   "outputs": [],
   "source": [
    "ODMatrix <- function(ai,bj,oi,dj,fcij,cij){\n",
    "    \n",
    "    nZones <- length(ai)\n",
    "    odmatrix <- diag(nZones)*0\n",
    "    \n",
    "    for(i in 1:nZones){\n",
    "        for(j in 1:nZones){\n",
    "           odmatrix[i,j] <- ai[i]*bj[j]*oi[i]*dj[j]*fcij(cij)[i,j]\n",
    "        }     \n",
    "    }\n",
    "    \n",
    "    return(odmatrix)\n",
    "    \n",
    "}\n",
    "\n",
    "# Compute the number of generated trips by zone\n",
    "\n",
    "on <- function(odm){\n",
    "    \n",
    "    return(rowSums(odm))\n",
    "}\n",
    "\n",
    "\n",
    "# Compute the number of attracted trips by zone\n",
    "\n",
    "\n",
    "dn <- function(odm){\n",
    "    \n",
    "    return(colSums(odm))\n",
    "}\n"
   ]
  },
  {
   "cell_type": "markdown",
   "metadata": {},
   "source": [
    "## Function for entropy calculation"
   ]
  },
  {
   "cell_type": "code",
   "execution_count": 12,
   "metadata": {},
   "outputs": [],
   "source": [
    "entropyCalculation <- function(m){\n",
    "    \n",
    "    #total trips in matrix\n",
    "    trips_m <- sum(m)\n",
    "    numerator <- factorial(trips_m)\n",
    "    \n",
    "    \n",
    "    denominator <- 1\n",
    "    \n",
    "    for(i in 1:dim(m)[1]){\n",
    "        \n",
    "        for(j in 1:dim(m)[2]){\n",
    "    \n",
    "            denominator <- denominator*factorial(m[i,j])    \n",
    "            \n",
    "\n",
    "        }\n",
    "    }\n",
    "    \n",
    "    entropym <- numerator/denominator\n",
    "    \n",
    "    return(entropym)\n",
    "    \n",
    "}"
   ]
  },
  {
   "cell_type": "code",
   "execution_count": null,
   "metadata": {},
   "outputs": [],
   "source": []
  },
  {
   "cell_type": "markdown",
   "metadata": {},
   "source": [
    "## General algorithm for n iterations"
   ]
  },
  {
   "cell_type": "code",
   "execution_count": 13,
   "metadata": {},
   "outputs": [],
   "source": [
    "doublyConstrainedAlgorithm <- function(om,dm,cij,fcij,nIterations){\n",
    "\n",
    "    nZones <- length(om) #Number of zones\n",
    "    \n",
    "    an <- c(rep(NA,nZones))\n",
    "    bn <- c(rep(NA,nZones))\n",
    "    ODn <- diag(nZones)*0\n",
    "    \n",
    "    an1 <- an\n",
    "    bn1 <- bn\n",
    "    ODn1 <- ODn\n",
    "    \n",
    "    \n",
    "    for(i in 1:nIterations){\n",
    "        \n",
    "        if(i==1){\n",
    "            an <- ai(bj = c(rep(1,nZones)),dj = dm,fcij = fcij, cij = cij)\n",
    "            bn <- bj(ai = an,oi = om,fcij = fcij, cij = cij)\n",
    "            ODn <- ODMatrix(ai=an,bj=bn,oi=om,dj=dm,fcij=fcij,cij=cij)\n",
    "            \n",
    "        }\n",
    "        \n",
    "        else{\n",
    "            \n",
    "            an1 <- ai(bj = bn,dj = d1,fcij = fcij, cij = cij)\n",
    "            bn1 <- bj(ai = an1,oi = om,fcij = fcij, cij = cij)\n",
    "            ODn1 <- ODMatrix(ai=an1,bj=bn1,oi=om,dj=dm,fcij=fcij,cij=cij)\n",
    "            \n",
    "            error <- sum(abs(ODn1-ODn))\n",
    "            \n",
    "            an <- an1\n",
    "            bn <- bn1\n",
    "            ODn <- ODn1\n",
    "            \n",
    "        }\n",
    "        \n",
    "        \n",
    "    }\n",
    "    \n",
    "#    return(list(ODMatrix=ODn,oi=on(ODn),dj=dn(ODn),entropy = entropyCalculation(ODn)))\n",
    "        return(list(ODMatrix=ODn,oi=on(ODn),dj=dn(ODn),cij = cij,C = sum(fcij(cij)*ODn),error = error))\n",
    "    \n",
    "}"
   ]
  },
  {
   "cell_type": "code",
   "execution_count": null,
   "metadata": {},
   "outputs": [],
   "source": []
  },
  {
   "cell_type": "markdown",
   "metadata": {},
   "source": [
    "## Iterations"
   ]
  },
  {
   "cell_type": "markdown",
   "metadata": {},
   "source": [
    "### Iteration 1"
   ]
  },
  {
   "cell_type": "markdown",
   "metadata": {},
   "source": [
    "#### Balancing factors"
   ]
  },
  {
   "cell_type": "code",
   "execution_count": 14,
   "metadata": {},
   "outputs": [
    {
     "data": {
      "text/html": [
       "<ol class=list-inline>\n",
       "\t<li>0.000965858365301487</li>\n",
       "\t<li>0.000802427333253532</li>\n",
       "\t<li>0.000827433923548266</li>\n",
       "</ol>\n"
      ],
      "text/latex": [
       "\\begin{enumerate*}\n",
       "\\item 0.000965858365301487\n",
       "\\item 0.000802427333253532\n",
       "\\item 0.000827433923548266\n",
       "\\end{enumerate*}\n"
      ],
      "text/markdown": [
       "1. 0.000965858365301487\n",
       "2. 0.000802427333253532\n",
       "3. 0.000827433923548266\n",
       "\n",
       "\n"
      ],
      "text/plain": [
       "[1] 0.0009658584 0.0008024273 0.0008274339"
      ]
     },
     "metadata": {},
     "output_type": "display_data"
    }
   ],
   "source": [
    "a1 <- ai(bj = c(rep(1,nZones)),dj = dm,fcij = fcij, cij = cij); a1"
   ]
  },
  {
   "cell_type": "code",
   "execution_count": 15,
   "metadata": {},
   "outputs": [
    {
     "data": {
      "text/html": [
       "<ol class=list-inline>\n",
       "\t<li>1.17308656902022</li>\n",
       "\t<li>1.02569598461323</li>\n",
       "\t<li>0.818476015616499</li>\n",
       "</ol>\n"
      ],
      "text/latex": [
       "\\begin{enumerate*}\n",
       "\\item 1.17308656902022\n",
       "\\item 1.02569598461323\n",
       "\\item 0.818476015616499\n",
       "\\end{enumerate*}\n"
      ],
      "text/markdown": [
       "1. 1.17308656902022\n",
       "2. 1.02569598461323\n",
       "3. 0.818476015616499\n",
       "\n",
       "\n"
      ],
      "text/plain": [
       "[1] 1.173087 1.025696 0.818476"
      ]
     },
     "metadata": {},
     "output_type": "display_data"
    }
   ],
   "source": [
    "b1 <- bj(ai = a1,oi = om,fcij = fcij, cij = cij); b1"
   ]
  },
  {
   "cell_type": "markdown",
   "metadata": {},
   "source": [
    "#### OD Matrix"
   ]
  },
  {
   "cell_type": "code",
   "execution_count": 16,
   "metadata": {},
   "outputs": [
    {
     "data": {
      "text/html": [
       "<table>\n",
       "<tbody>\n",
       "\t<tr><td>75.59428</td><td>18.23662</td><td>14.55230</td></tr>\n",
       "\t<tr><td>46.20795</td><td>82.36848</td><td>65.72769</td></tr>\n",
       "\t<tr><td>98.19776</td><td>64.39490</td><td>84.72001</td></tr>\n",
       "</tbody>\n",
       "</table>\n"
      ],
      "text/latex": [
       "\\begin{tabular}{lll}\n",
       "\t 75.59428 & 18.23662 & 14.55230\\\\\n",
       "\t 46.20795 & 82.36848 & 65.72769\\\\\n",
       "\t 98.19776 & 64.39490 & 84.72001\\\\\n",
       "\\end{tabular}\n"
      ],
      "text/markdown": [
       "\n",
       "| 75.59428 | 18.23662 | 14.55230 | \n",
       "| 46.20795 | 82.36848 | 65.72769 | \n",
       "| 98.19776 | 64.39490 | 84.72001 | \n",
       "\n",
       "\n"
      ],
      "text/plain": [
       "     [,1]     [,2]     [,3]    \n",
       "[1,] 75.59428 18.23662 14.55230\n",
       "[2,] 46.20795 82.36848 65.72769\n",
       "[3,] 98.19776 64.39490 84.72001"
      ]
     },
     "metadata": {},
     "output_type": "display_data"
    }
   ],
   "source": [
    "OD1 <- ODMatrix(ai=a1,bj=b1,oi=om,dj=dm,fcij=fcij,cij=cij); OD1"
   ]
  },
  {
   "cell_type": "markdown",
   "metadata": {},
   "source": [
    "#### Attracted and generated trips by zone"
   ]
  },
  {
   "cell_type": "code",
   "execution_count": 17,
   "metadata": {},
   "outputs": [
    {
     "data": {
      "text/html": [
       "<ol class=list-inline>\n",
       "\t<li>108.383201736416</li>\n",
       "\t<li>194.304128160552</li>\n",
       "\t<li>247.312670103032</li>\n",
       "</ol>\n"
      ],
      "text/latex": [
       "\\begin{enumerate*}\n",
       "\\item 108.383201736416\n",
       "\\item 194.304128160552\n",
       "\\item 247.312670103032\n",
       "\\end{enumerate*}\n"
      ],
      "text/markdown": [
       "1. 108.383201736416\n",
       "2. 194.304128160552\n",
       "3. 247.312670103032\n",
       "\n",
       "\n"
      ],
      "text/plain": [
       "[1] 108.3832 194.3041 247.3127"
      ]
     },
     "metadata": {},
     "output_type": "display_data"
    }
   ],
   "source": [
    "o1 <- on(OD1); o1"
   ]
  },
  {
   "cell_type": "code",
   "execution_count": 18,
   "metadata": {},
   "outputs": [
    {
     "data": {
      "text/html": [
       "<ol class=list-inline>\n",
       "\t<li>220</li>\n",
       "\t<li>165</li>\n",
       "\t<li>165</li>\n",
       "</ol>\n"
      ],
      "text/latex": [
       "\\begin{enumerate*}\n",
       "\\item 220\n",
       "\\item 165\n",
       "\\item 165\n",
       "\\end{enumerate*}\n"
      ],
      "text/markdown": [
       "1. 220\n",
       "2. 165\n",
       "3. 165\n",
       "\n",
       "\n"
      ],
      "text/plain": [
       "[1] 220 165 165"
      ]
     },
     "metadata": {},
     "output_type": "display_data"
    }
   ],
   "source": [
    "d1 <- dn(OD1); d1"
   ]
  },
  {
   "cell_type": "markdown",
   "metadata": {},
   "source": [
    "### Iteration 2"
   ]
  },
  {
   "cell_type": "code",
   "execution_count": 19,
   "metadata": {},
   "outputs": [
    {
     "data": {
      "text/html": [
       "<ol class=list-inline>\n",
       "\t<li>0.000891151349865472</li>\n",
       "\t<li>0.000825949855877988</li>\n",
       "\t<li>0.000836424922349866</li>\n",
       "</ol>\n"
      ],
      "text/latex": [
       "\\begin{enumerate*}\n",
       "\\item 0.000891151349865472\n",
       "\\item 0.000825949855877988\n",
       "\\item 0.000836424922349866\n",
       "\\end{enumerate*}\n"
      ],
      "text/markdown": [
       "1. 0.000891151349865472\n",
       "2. 0.000825949855877988\n",
       "3. 0.000836424922349866\n",
       "\n",
       "\n"
      ],
      "text/plain": [
       "[1] 0.0008911513 0.0008259499 0.0008364249"
      ]
     },
     "metadata": {},
     "output_type": "display_data"
    }
   ],
   "source": [
    "a2 <- ai(bj = b1,dj = dm,fcij = fcij, cij = cij); a2"
   ]
  },
  {
   "cell_type": "code",
   "execution_count": 20,
   "metadata": {},
   "outputs": [
    {
     "data": {
      "text/html": [
       "<ol class=list-inline>\n",
       "\t<li>1.19164080947496</li>\n",
       "\t<li>1.01521327657833</li>\n",
       "\t<li>0.810023566887095</li>\n",
       "</ol>\n"
      ],
      "text/latex": [
       "\\begin{enumerate*}\n",
       "\\item 1.19164080947496\n",
       "\\item 1.01521327657833\n",
       "\\item 0.810023566887095\n",
       "\\end{enumerate*}\n"
      ],
      "text/markdown": [
       "1. 1.19164080947496\n",
       "2. 1.01521327657833\n",
       "3. 0.810023566887095\n",
       "\n",
       "\n"
      ],
      "text/plain": [
       "[1] 1.1916408 1.0152133 0.8100236"
      ]
     },
     "metadata": {},
     "output_type": "display_data"
    }
   ],
   "source": [
    "b2 <- bj(ai = a2,oi = om,fcij = fcij, cij = cij); b2"
   ]
  },
  {
   "cell_type": "code",
   "execution_count": 21,
   "metadata": {},
   "outputs": [
    {
     "data": {
      "text/html": [
       "<table>\n",
       "<tbody>\n",
       "\t<tr><td> 70.85040</td><td>16.65409 </td><td>13.28805 </td></tr>\n",
       "\t<tr><td> 48.31478</td><td>83.91656 </td><td>66.95577 </td></tr>\n",
       "\t<tr><td>100.83482</td><td>64.42935 </td><td>84.75617 </td></tr>\n",
       "</tbody>\n",
       "</table>\n"
      ],
      "text/latex": [
       "\\begin{tabular}{lll}\n",
       "\t  70.85040 & 16.65409  & 13.28805 \\\\\n",
       "\t  48.31478 & 83.91656  & 66.95577 \\\\\n",
       "\t 100.83482 & 64.42935  & 84.75617 \\\\\n",
       "\\end{tabular}\n"
      ],
      "text/markdown": [
       "\n",
       "|  70.85040 | 16.65409  | 13.28805  | \n",
       "|  48.31478 | 83.91656  | 66.95577  | \n",
       "| 100.83482 | 64.42935  | 84.75617  | \n",
       "\n",
       "\n"
      ],
      "text/plain": [
       "     [,1]      [,2]     [,3]    \n",
       "[1,]  70.85040 16.65409 13.28805\n",
       "[2,]  48.31478 83.91656 66.95577\n",
       "[3,] 100.83482 64.42935 84.75617"
      ]
     },
     "metadata": {},
     "output_type": "display_data"
    }
   ],
   "source": [
    "OD2 <- ODMatrix(ai=a2,bj=b2,oi=om,dj=dm,fcij=fcij,cij=cij); OD2"
   ]
  },
  {
   "cell_type": "code",
   "execution_count": 22,
   "metadata": {},
   "outputs": [
    {
     "data": {
      "text/html": [
       "<ol class=list-inline>\n",
       "\t<li>100.792541755686</li>\n",
       "\t<li>199.187115081911</li>\n",
       "\t<li>250.020343162402</li>\n",
       "</ol>\n"
      ],
      "text/latex": [
       "\\begin{enumerate*}\n",
       "\\item 100.792541755686\n",
       "\\item 199.187115081911\n",
       "\\item 250.020343162402\n",
       "\\end{enumerate*}\n"
      ],
      "text/markdown": [
       "1. 100.792541755686\n",
       "2. 199.187115081911\n",
       "3. 250.020343162402\n",
       "\n",
       "\n"
      ],
      "text/plain": [
       "[1] 100.7925 199.1871 250.0203"
      ]
     },
     "metadata": {},
     "output_type": "display_data"
    }
   ],
   "source": [
    "o2 <- on(OD2); o2"
   ]
  },
  {
   "cell_type": "code",
   "execution_count": 23,
   "metadata": {},
   "outputs": [
    {
     "data": {
      "text/html": [
       "<ol class=list-inline>\n",
       "\t<li>220</li>\n",
       "\t<li>165</li>\n",
       "\t<li>165</li>\n",
       "</ol>\n"
      ],
      "text/latex": [
       "\\begin{enumerate*}\n",
       "\\item 220\n",
       "\\item 165\n",
       "\\item 165\n",
       "\\end{enumerate*}\n"
      ],
      "text/markdown": [
       "1. 220\n",
       "2. 165\n",
       "3. 165\n",
       "\n",
       "\n"
      ],
      "text/plain": [
       "[1] 220 165 165"
      ]
     },
     "metadata": {},
     "output_type": "display_data"
    }
   ],
   "source": [
    "d2 <- dn(OD2); d2"
   ]
  },
  {
   "cell_type": "markdown",
   "metadata": {},
   "source": [
    "### Iteration (N=10)"
   ]
  },
  {
   "cell_type": "code",
   "execution_count": 24,
   "metadata": {},
   "outputs": [
    {
     "data": {
      "text/html": [
       "<dl>\n",
       "\t<dt>$ODMatrix</dt>\n",
       "\t\t<dd><table>\n",
       "<tbody>\n",
       "\t<tr><td> 70.35896</td><td>16.48444 </td><td>13.15670 </td></tr>\n",
       "\t<tr><td> 48.62752</td><td>84.18330 </td><td>67.18907 </td></tr>\n",
       "\t<tr><td>101.01351</td><td>64.33226 </td><td>84.65424 </td></tr>\n",
       "</tbody>\n",
       "</table>\n",
       "</dd>\n",
       "\t<dt>$oi</dt>\n",
       "\t\t<dd><ol class=list-inline>\n",
       "\t<li>100.00010552887</li>\n",
       "\t<li>199.999887114023</li>\n",
       "\t<li>250.000007357107</li>\n",
       "</ol>\n",
       "</dd>\n",
       "\t<dt>$dj</dt>\n",
       "\t\t<dd><ol class=list-inline>\n",
       "\t<li>220</li>\n",
       "\t<li>165</li>\n",
       "\t<li>165</li>\n",
       "</ol>\n",
       "</dd>\n",
       "\t<dt>$cij</dt>\n",
       "\t\t<dd><table>\n",
       "<tbody>\n",
       "\t<tr><td>1</td><td>3</td><td>3</td></tr>\n",
       "\t<tr><td>3</td><td>1</td><td>1</td></tr>\n",
       "\t<tr><td>2</td><td>2</td><td>1</td></tr>\n",
       "</tbody>\n",
       "</table>\n",
       "</dd>\n",
       "\t<dt>$C</dt>\n",
       "\t\t<dd>1320.61824065429</dd>\n",
       "\t<dt>$error</dt>\n",
       "\t\t<dd>0.00223646827591217</dd>\n",
       "</dl>\n"
      ],
      "text/latex": [
       "\\begin{description}\n",
       "\\item[\\$ODMatrix] \\begin{tabular}{lll}\n",
       "\t  70.35896 & 16.48444  & 13.15670 \\\\\n",
       "\t  48.62752 & 84.18330  & 67.18907 \\\\\n",
       "\t 101.01351 & 64.33226  & 84.65424 \\\\\n",
       "\\end{tabular}\n",
       "\n",
       "\\item[\\$oi] \\begin{enumerate*}\n",
       "\\item 100.00010552887\n",
       "\\item 199.999887114023\n",
       "\\item 250.000007357107\n",
       "\\end{enumerate*}\n",
       "\n",
       "\\item[\\$dj] \\begin{enumerate*}\n",
       "\\item 220\n",
       "\\item 165\n",
       "\\item 165\n",
       "\\end{enumerate*}\n",
       "\n",
       "\\item[\\$cij] \\begin{tabular}{lll}\n",
       "\t 1 & 3 & 3\\\\\n",
       "\t 3 & 1 & 1\\\\\n",
       "\t 2 & 2 & 1\\\\\n",
       "\\end{tabular}\n",
       "\n",
       "\\item[\\$C] 1320.61824065429\n",
       "\\item[\\$error] 0.00223646827591217\n",
       "\\end{description}\n"
      ],
      "text/markdown": [
       "$ODMatrix\n",
       ":   \n",
       "|  70.35896 | 16.48444  | 13.15670  | \n",
       "|  48.62752 | 84.18330  | 67.18907  | \n",
       "| 101.01351 | 64.33226  | 84.65424  | \n",
       "\n",
       "\n",
       "\n",
       "$oi\n",
       ":   1. 100.00010552887\n",
       "2. 199.999887114023\n",
       "3. 250.000007357107\n",
       "\n",
       "\n",
       "\n",
       "$dj\n",
       ":   1. 220\n",
       "2. 165\n",
       "3. 165\n",
       "\n",
       "\n",
       "\n",
       "$cij\n",
       ":   \n",
       "| 1 | 3 | 3 | \n",
       "| 3 | 1 | 1 | \n",
       "| 2 | 2 | 1 | \n",
       "\n",
       "\n",
       "\n",
       "$C\n",
       ":   1320.61824065429\n",
       "$error\n",
       ":   0.00223646827591217\n",
       "\n",
       "\n"
      ],
      "text/plain": [
       "$ODMatrix\n",
       "          [,1]     [,2]     [,3]\n",
       "[1,]  70.35896 16.48444 13.15670\n",
       "[2,]  48.62752 84.18330 67.18907\n",
       "[3,] 101.01351 64.33226 84.65424\n",
       "\n",
       "$oi\n",
       "[1] 100.0001 199.9999 250.0000\n",
       "\n",
       "$dj\n",
       "[1] 220 165 165\n",
       "\n",
       "$cij\n",
       "     [,1] [,2] [,3]\n",
       "[1,]    1    3    3\n",
       "[2,]    3    1    1\n",
       "[3,]    2    2    1\n",
       "\n",
       "$C\n",
       "[1] 1320.618\n",
       "\n",
       "$error\n",
       "[1] 0.002236468\n"
      ]
     },
     "metadata": {},
     "output_type": "display_data"
    }
   ],
   "source": [
    "N=6\n",
    "doublyConstrainedAlgorithm(om=om,dm=dm,cij=cij,fcij=fcij,nIterations=N)"
   ]
  },
  {
   "cell_type": "markdown",
   "metadata": {},
   "source": [
    "### Analysis of convergency"
   ]
  },
  {
   "cell_type": "code",
   "execution_count": 25,
   "metadata": {},
   "outputs": [],
   "source": [
    "nConvergency <- 10 #iterations\n",
    "\n",
    "#Compute error from the second iterations until de nth iteration\n",
    "convergency <- data.frame(iteration=2:nConvergency, error = sapply(2:nConvergency,function(i) doublyConstrainedAlgorithm(om=om,dm=dm,cij=cij,fcij=fcij,nIterations=i)$error))\n",
    "convergency$error <- round(convergency$error,4)                                                        "
   ]
  },
  {
   "cell_type": "markdown",
   "metadata": {},
   "source": [
    "### Plot"
   ]
  },
  {
   "cell_type": "code",
   "execution_count": 26,
   "metadata": {},
   "outputs": [
    {
     "data": {
      "text/html": [
       "<table>\n",
       "<thead><tr><th scope=col>iteration</th><th scope=col>error</th></tr></thead>\n",
       "<tbody>\n",
       "\t<tr><td> 2     </td><td>15.1813</td></tr>\n",
       "\t<tr><td> 3     </td><td> 1.7678</td></tr>\n",
       "\t<tr><td> 4     </td><td> 0.1921</td></tr>\n",
       "\t<tr><td> 5     </td><td> 0.0207</td></tr>\n",
       "\t<tr><td> 6     </td><td> 0.0022</td></tr>\n",
       "\t<tr><td> 7     </td><td> 0.0002</td></tr>\n",
       "\t<tr><td> 8     </td><td> 0.0000</td></tr>\n",
       "\t<tr><td> 9     </td><td> 0.0000</td></tr>\n",
       "\t<tr><td>10     </td><td> 0.0000</td></tr>\n",
       "</tbody>\n",
       "</table>\n"
      ],
      "text/latex": [
       "\\begin{tabular}{r|ll}\n",
       " iteration & error\\\\\n",
       "\\hline\n",
       "\t  2      & 15.1813\\\\\n",
       "\t  3      &  1.7678\\\\\n",
       "\t  4      &  0.1921\\\\\n",
       "\t  5      &  0.0207\\\\\n",
       "\t  6      &  0.0022\\\\\n",
       "\t  7      &  0.0002\\\\\n",
       "\t  8      &  0.0000\\\\\n",
       "\t  9      &  0.0000\\\\\n",
       "\t 10      &  0.0000\\\\\n",
       "\\end{tabular}\n"
      ],
      "text/markdown": [
       "\n",
       "iteration | error | \n",
       "|---|---|---|---|---|---|---|---|---|\n",
       "|  2      | 15.1813 | \n",
       "|  3      |  1.7678 | \n",
       "|  4      |  0.1921 | \n",
       "|  5      |  0.0207 | \n",
       "|  6      |  0.0022 | \n",
       "|  7      |  0.0002 | \n",
       "|  8      |  0.0000 | \n",
       "|  9      |  0.0000 | \n",
       "| 10      |  0.0000 | \n",
       "\n",
       "\n"
      ],
      "text/plain": [
       "  iteration error  \n",
       "1  2        15.1813\n",
       "2  3         1.7678\n",
       "3  4         0.1921\n",
       "4  5         0.0207\n",
       "5  6         0.0022\n",
       "6  7         0.0002\n",
       "7  8         0.0000\n",
       "8  9         0.0000\n",
       "9 10         0.0000"
      ]
     },
     "metadata": {},
     "output_type": "display_data"
    },
    {
     "data": {
      "image/png": "[encoded data removed]",
      "text/plain": [
       "plot without title"
      ]
     },
     "metadata": {},
     "output_type": "display_data"
    }
   ],
   "source": [
    "plot(convergency, type=\"l\")\n",
    "convergency"
   ]
  }
 ],
 "metadata": {
  "kernelspec": {
   "display_name": "R",
   "language": "R",
   "name": "ir"
  },
  "language_info": {
   "codemirror_mode": "r",
   "file_extension": ".r",
   "mimetype": "text/x-r-source",
   "name": "R",
   "pygments_lexer": "r",
   "version": "3.5.0"
  }
 },
 "nbformat": 4,
 "nbformat_minor": 2
}
